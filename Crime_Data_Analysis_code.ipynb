{
  "cells": [
    {
      "cell_type": "markdown",
      "metadata": {
        "id": "OB5rMk_5RhBv"
      },
      "source": [
        "# 911 Call Analysis"
      ]
    },
    {
      "cell_type": "markdown",
      "metadata": {
        "id": "SC8oQaLHRhB0"
      },
      "source": [
        "## Install essential packages"
      ]
    },
    {
      "cell_type": "code",
      "execution_count": null,
      "metadata": {
        "colab": {
          "base_uri": "https://localhost:8080/"
        },
        "id": "t_RgwA_VVFgA",
        "outputId": "e5db9ede-241e-4e55-f7d5-e8a230bced86"
      },
      "outputs": [
        {
          "name": "stdout",
          "output_type": "stream",
          "text": [
            "Requirement already satisfied: db-sqlite3 in c:\\programdata\\anaconda3\\lib\\site-packages (0.0.1)\n",
            "Requirement already satisfied: db in c:\\programdata\\anaconda3\\lib\\site-packages (from db-sqlite3) (0.1.1)\n",
            "Requirement already satisfied: antiorm in c:\\programdata\\anaconda3\\lib\\site-packages (from db->db-sqlite3) (1.2.1)\n"
          ]
        },
        {
          "name": "stderr",
          "output_type": "stream",
          "text": [
            "You are using pip version 19.0.3, however version 21.3.1 is available.\n",
            "You should consider upgrading via the 'python -m pip install --upgrade pip' command.\n"
          ]
        }
      ],
      "source": [
        "#Package for sqlite3 (database)\n",
        "!pip install db-sqlite3"
      ]
    },
    {
      "cell_type": "code",
      "execution_count": null,
      "metadata": {
        "colab": {
          "base_uri": "https://localhost:8080/"
        },
        "id": "zv2WBuZ_RhB1",
        "outputId": "b87e903b-1131-4dc2-e7c5-0df558d06af1"
      },
      "outputs": [
        {
          "name": "stdout",
          "output_type": "stream",
          "text": [
            "Requirement already satisfied: folium in c:\\programdata\\anaconda3\\lib\\site-packages (0.12.1.post1)\n",
            "Requirement already satisfied: jinja2>=2.9 in c:\\programdata\\anaconda3\\lib\\site-packages (from folium) (2.10)\n",
            "Requirement already satisfied: numpy in c:\\users\\admin\\appdata\\roaming\\python\\python37\\site-packages (from folium) (1.16.2)\n",
            "Requirement already satisfied: requests in c:\\programdata\\anaconda3\\lib\\site-packages (from folium) (2.19.1)\n",
            "Requirement already satisfied: branca>=0.3.0 in c:\\programdata\\anaconda3\\lib\\site-packages (from folium) (0.4.2)\n",
            "Requirement already satisfied: MarkupSafe>=0.23 in c:\\programdata\\anaconda3\\lib\\site-packages (from jinja2>=2.9->folium) (1.0)\n",
            "Requirement already satisfied: idna<2.8,>=2.5 in c:\\programdata\\anaconda3\\lib\\site-packages (from requests->folium) (2.7)\n",
            "Requirement already satisfied: certifi>=2017.4.17 in c:\\programdata\\anaconda3\\lib\\site-packages (from requests->folium) (2018.8.24)\n",
            "Requirement already satisfied: chardet<3.1.0,>=3.0.2 in c:\\programdata\\anaconda3\\lib\\site-packages (from requests->folium) (3.0.4)\n",
            "Requirement already satisfied: urllib3<1.24,>=1.21.1 in c:\\programdata\\anaconda3\\lib\\site-packages (from requests->folium) (1.23)\n"
          ]
        },
        {
          "name": "stderr",
          "output_type": "stream",
          "text": [
            "You are using pip version 19.0.3, however version 21.3.1 is available.\n",
            "You should consider upgrading via the 'python -m pip install --upgrade pip' command.\n"
          ]
        }
      ],
      "source": [
        "#Package for folium (map visualization)\n",
        "!pip install folium"
      ]
    },
    {
      "cell_type": "markdown",
      "metadata": {
        "id": "toiPSVHXRhB2"
      },
      "source": [
        "## Importing the required packages"
      ]
    },
    {
      "cell_type": "code",
      "execution_count": null,
      "metadata": {
        "id": "x0f4eApXVjyl"
      },
      "outputs": [],
      "source": [
        "from IPython.display import display, HTML\n",
        "import matplotlib.pyplot as plt\n",
        "from datetime import datetime as dm\n",
        "import pandas as pd\n",
        "import sqlite3\n",
        "from sqlite3 import Error\n",
        "import folium as fm\n",
        "from folium import plugins\n",
        "from folium.plugins import HeatMap\n",
        "from folium.plugins import HeatMapWithTime"
      ]
    },
    {
      "cell_type": "markdown",
      "metadata": {
        "id": "v8bnVC2DRhB5"
      },
      "source": [
        "## Help functions"
      ]
    },
    {
      "cell_type": "code",
      "execution_count": null,
      "metadata": {
        "id": "JxZEuyrpYxJu"
      },
      "outputs": [],
      "source": [
        "#Function to connect to database file\n",
        "def create_connection(db_file, delete_db=False):\n",
        "    import os\n",
        "    if delete_db and os.path.exists(db_file):\n",
        "        os.remove(db_file)\n",
        "\n",
        "    conn = None\n",
        "    try:\n",
        "        conn = sqlite3.connect(db_file)\n",
        "        conn.execute(\"PRAGMA foreign_keys = 1\")\n",
        "    except Error as e:\n",
        "        print(e)\n",
        "\n",
        "    return conn\n",
        "\n",
        "#Function To create table\n",
        "def create_table(conn, create_table_sql, drop_table_name=None):\n",
        "\n",
        "    if drop_table_name: # You can optionally pass drop_table_name to drop the table.\n",
        "        try:\n",
        "            c = conn.cursor()\n",
        "            c.execute(\"\"\"DROP TABLE IF EXISTS %s\"\"\" % (drop_table_name))\n",
        "        except Error as e:\n",
        "            print(e)\n",
        "\n",
        "    try:\n",
        "        c = conn.cursor()\n",
        "        c.execute(create_table_sql)\n",
        "    except Error as e:\n",
        "        print(e)\n",
        "#Function To execute the sql queries\n",
        "def execute_sql_statement(sql_statement, conn):\n",
        "    cur = conn.cursor()\n",
        "    cur.execute(sql_statement)\n",
        "\n",
        "    rows = cur.fetchall()\n",
        "\n",
        "    return rows\n",
        "\n",
        "#To beautify the output dataframe\n",
        "def beautify_table(df,bgcolor='#fff5eb'):\n",
        "\n",
        "    return df.style.set_table_styles(\n",
        "    [{'selector': 'th',\n",
        "      'props': [('background', '#420929'),\n",
        "                ('color', 'white'),\n",
        "                ('font-family', 'verdana')]},\n",
        "     {'selector': 'td',\n",
        "      'props': [('border', '2px solid black')\n",
        "               ,('background','#fff5eb')\n",
        "               ,('color','black')\n",
        "               ,('font-family', 'verdana')\n",
        "               ]\n",
        "      }\n",
        "\n",
        "    ]\n",
        "    ).hide_index().background_gradient(cmap='Blues')"
      ]
    },
    {
      "cell_type": "code",
      "execution_count": null,
      "metadata": {
        "id": "gn33o6Z2RhB7"
      },
      "outputs": [],
      "source": [
        "#Initial connection and also reset the db\n",
        "conn = create_connection('911data.db',True)"
      ]
    },
    {
      "cell_type": "markdown",
      "metadata": {
        "id": "7VJjy-8ZRhB7"
      },
      "source": [
        "### To Create and insert data for TimeOfDay table"
      ]
    },
    {
      "cell_type": "code",
      "execution_count": null,
      "metadata": {
        "id": "qI9P4GkXZGR-"
      },
      "outputs": [],
      "source": [
        "def step1_create_timeofday_table(data_filename, normalized_database_filename):\n",
        "    # Inputs: Name of the data and normalized database filename\n",
        "    # Output: dataframe to show five of the inserted rows\n",
        "    conn = create_connection(normalized_database_filename)\n",
        "    l = []\n",
        "    #[*range(21, 24), *range(0, 5)]\n",
        "    time_details = {range(5,12):('Morning',5,11),range(12,17):('Afternoon',12,16),range(17,21):('Evening',17,20),range(21, 24):('Night',21,4),range(0, 5):('Night',21,4)}\n",
        "    with open(data_filename,'r') as f:\n",
        "        for i in f:\n",
        "            if i.split(',')[5] != 'timeStamp':\n",
        "                d = i.split(',')[5]\n",
        "                for k in time_details.keys():\n",
        "                    if int(d.strip().split(' ')[1].split(':')[0]) in k:\n",
        "                        details = time_details[k]\n",
        "                        if details not in l:\n",
        "                            l.append(details)\n",
        "                        break\n",
        "    f.close()\n",
        "    sort_func = lambda s: s[1]\n",
        "    l = sorted(l,key = sort_func)\n",
        "\n",
        "    with conn:\n",
        "        create_query = 'CREATE TABLE IF NOT EXISTS TimeOfDay (TimeOfDayID Integer NOT NULL PRIMARY KEY, TimeOfDay text NOT NULL, StartTime integer NOT NULL, EndTime integer NOT NULL);'\n",
        "        create_table(conn, create_query, drop_table_name='TimeOfDay')\n",
        "        insert_query = \"INSERT INTO TimeOfDay (TimeOfDay,StartTime,EndTime) VALUES (?,?,?)\"\n",
        "        cur_region = conn.cursor()\n",
        "        cur_region.executemany(insert_query,l)\n",
        "    #r = execute_sql_statement('SELECT * FROM TimeOfDay',conn)\n",
        "    df = pd.read_sql_query('SELECT * FROM TimeOfDay', conn)\n",
        "    df = df.head(5)\n",
        "    conn.commit()\n",
        "    conn.close()\n",
        "    return df"
      ]
    },
    {
      "cell_type": "code",
      "execution_count": null,
      "metadata": {
        "colab": {
          "base_uri": "https://localhost:8080/",
          "height": 184
        },
        "id": "ATRTlUSuRhB8",
        "outputId": "a1d9c209-785d-4d3c-e3ef-f00a731b546e"
      },
      "outputs": [
        {
          "data": {
            "text/html": [
              "<style  type=\"text/css\" >\n",
              "    #T_d222cb2e_61aa_11ec_8fa0_98e7f411c445 th {\n",
              "          background: #420929;\n",
              "          color: white;\n",
              "          font-family: verdana;\n",
              "    }    #T_d222cb2e_61aa_11ec_8fa0_98e7f411c445 td {\n",
              "          border: 2px solid black;\n",
              "          background: #fff5eb;\n",
              "          color: black;\n",
              "          font-family: verdana;\n",
              "    }    #T_d222cb2e_61aa_11ec_8fa0_98e7f411c445row0_col0 {\n",
              "            background-color:  #f7fbff;\n",
              "        }    #T_d222cb2e_61aa_11ec_8fa0_98e7f411c445row0_col2 {\n",
              "            background-color:  #f7fbff;\n",
              "        }    #T_d222cb2e_61aa_11ec_8fa0_98e7f411c445row0_col3 {\n",
              "            background-color:  #84bcdb;\n",
              "        }    #T_d222cb2e_61aa_11ec_8fa0_98e7f411c445row1_col0 {\n",
              "            background-color:  #abd0e6;\n",
              "        }    #T_d222cb2e_61aa_11ec_8fa0_98e7f411c445row1_col2 {\n",
              "            background-color:  #84bcdb;\n",
              "        }    #T_d222cb2e_61aa_11ec_8fa0_98e7f411c445row1_col3 {\n",
              "            background-color:  #2070b4;\n",
              "        }    #T_d222cb2e_61aa_11ec_8fa0_98e7f411c445row2_col0 {\n",
              "            background-color:  #3787c0;\n",
              "        }    #T_d222cb2e_61aa_11ec_8fa0_98e7f411c445row2_col2 {\n",
              "            background-color:  #2070b4;\n",
              "        }    #T_d222cb2e_61aa_11ec_8fa0_98e7f411c445row2_col3 {\n",
              "            background-color:  #08306b;\n",
              "        }    #T_d222cb2e_61aa_11ec_8fa0_98e7f411c445row3_col0 {\n",
              "            background-color:  #08306b;\n",
              "        }    #T_d222cb2e_61aa_11ec_8fa0_98e7f411c445row3_col2 {\n",
              "            background-color:  #08306b;\n",
              "        }    #T_d222cb2e_61aa_11ec_8fa0_98e7f411c445row3_col3 {\n",
              "            background-color:  #f7fbff;\n",
              "        }</style>  \n",
              "<table id=\"T_d222cb2e_61aa_11ec_8fa0_98e7f411c445\" > \n",
              "<thead>    <tr> \n",
              "        <th class=\"col_heading level0 col0\" >TimeOfDayID</th> \n",
              "        <th class=\"col_heading level0 col1\" >TimeOfDay</th> \n",
              "        <th class=\"col_heading level0 col2\" >StartTime</th> \n",
              "        <th class=\"col_heading level0 col3\" >EndTime</th> \n",
              "    </tr></thead> \n",
              "<tbody>    <tr> \n",
              "        <td id=\"T_d222cb2e_61aa_11ec_8fa0_98e7f411c445row0_col0\" class=\"data row0 col0\" >1</td> \n",
              "        <td id=\"T_d222cb2e_61aa_11ec_8fa0_98e7f411c445row0_col1\" class=\"data row0 col1\" >Morning</td> \n",
              "        <td id=\"T_d222cb2e_61aa_11ec_8fa0_98e7f411c445row0_col2\" class=\"data row0 col2\" >5</td> \n",
              "        <td id=\"T_d222cb2e_61aa_11ec_8fa0_98e7f411c445row0_col3\" class=\"data row0 col3\" >11</td> \n",
              "    </tr>    <tr> \n",
              "        <td id=\"T_d222cb2e_61aa_11ec_8fa0_98e7f411c445row1_col0\" class=\"data row1 col0\" >2</td> \n",
              "        <td id=\"T_d222cb2e_61aa_11ec_8fa0_98e7f411c445row1_col1\" class=\"data row1 col1\" >Afternoon</td> \n",
              "        <td id=\"T_d222cb2e_61aa_11ec_8fa0_98e7f411c445row1_col2\" class=\"data row1 col2\" >12</td> \n",
              "        <td id=\"T_d222cb2e_61aa_11ec_8fa0_98e7f411c445row1_col3\" class=\"data row1 col3\" >16</td> \n",
              "    </tr>    <tr> \n",
              "        <td id=\"T_d222cb2e_61aa_11ec_8fa0_98e7f411c445row2_col0\" class=\"data row2 col0\" >3</td> \n",
              "        <td id=\"T_d222cb2e_61aa_11ec_8fa0_98e7f411c445row2_col1\" class=\"data row2 col1\" >Evening</td> \n",
              "        <td id=\"T_d222cb2e_61aa_11ec_8fa0_98e7f411c445row2_col2\" class=\"data row2 col2\" >17</td> \n",
              "        <td id=\"T_d222cb2e_61aa_11ec_8fa0_98e7f411c445row2_col3\" class=\"data row2 col3\" >20</td> \n",
              "    </tr>    <tr> \n",
              "        <td id=\"T_d222cb2e_61aa_11ec_8fa0_98e7f411c445row3_col0\" class=\"data row3 col0\" >4</td> \n",
              "        <td id=\"T_d222cb2e_61aa_11ec_8fa0_98e7f411c445row3_col1\" class=\"data row3 col1\" >Night</td> \n",
              "        <td id=\"T_d222cb2e_61aa_11ec_8fa0_98e7f411c445row3_col2\" class=\"data row3 col2\" >21</td> \n",
              "        <td id=\"T_d222cb2e_61aa_11ec_8fa0_98e7f411c445row3_col3\" class=\"data row3 col3\" >4</td> \n",
              "    </tr></tbody> \n",
              "</table> "
            ],
            "text/plain": [
              "<pandas.io.formats.style.Styler at 0x16fc05e15f8>"
            ]
          },
          "execution_count": 7,
          "metadata": {},
          "output_type": "execute_result"
        }
      ],
      "source": [
        "#Function call\n",
        "df = step1_create_timeofday_table('911.csv', '911data.db')\n",
        "#View the top inserted rows\n",
        "beautify_table(df)"
      ]
    },
    {
      "cell_type": "markdown",
      "metadata": {
        "id": "vvMuwAniRhB9"
      },
      "source": [
        "### To Create TimeOfDay Dictionary"
      ]
    },
    {
      "cell_type": "code",
      "execution_count": null,
      "metadata": {
        "id": "XbokPUKRlLgB"
      },
      "outputs": [],
      "source": [
        "def step2_create_timeofday_dictionary(normalized_database_filename):\n",
        "    tod_dict = {}\n",
        "    conn = create_connection(normalized_database_filename)\n",
        "    sql_statement = \"Select * from TimeOfDay\"\n",
        "    df = execute_sql_statement(sql_statement,conn)\n",
        "    for row in df:\n",
        "        tod_dict[row[1]] = row[0];\n",
        "    conn.close()\n",
        "    return tod_dict"
      ]
    },
    {
      "cell_type": "code",
      "execution_count": null,
      "metadata": {
        "colab": {
          "base_uri": "https://localhost:8080/"
        },
        "id": "UNOEoVN-RhB9",
        "outputId": "3686dd34-5484-4a6a-b2c0-32219438e7be"
      },
      "outputs": [
        {
          "data": {
            "text/plain": [
              "{'Morning': 1, 'Afternoon': 2, 'Evening': 3, 'Night': 4}"
            ]
          },
          "execution_count": 9,
          "metadata": {},
          "output_type": "execute_result"
        }
      ],
      "source": [
        "step2_create_timeofday_dictionary('911data.db')"
      ]
    },
    {
      "cell_type": "markdown",
      "metadata": {
        "id": "0SmJ4mvjRhB-"
      },
      "source": [
        "### To Create and insert data for Township table"
      ]
    },
    {
      "cell_type": "code",
      "execution_count": null,
      "metadata": {
        "id": "lbLKgErAsJo0"
      },
      "outputs": [],
      "source": [
        "def step3_create_township_table(data_filename,normalized_database_filename):\n",
        "    # Inputs: Name of the data and normalized database filename\n",
        "    # Output: dataframe to show five of the inserted rows\n",
        "    conn = create_connection(normalized_database_filename)\n",
        "    l1 = []\n",
        "    with open(data_filename,'r') as f1:\n",
        "        for i in f1:\n",
        "            if i.split(',')[6] != 'twp':\n",
        "                d = i.split(',')[6].strip()\n",
        "                if d != '':\n",
        "                    if (d,) not in l1:\n",
        "                        l1.append((d,))\n",
        "    f1.close()\n",
        "    l1.sort()\n",
        "    with conn:\n",
        "        create_query = 'CREATE TABLE IF NOT EXISTS Township (TownshipID Integer NOT NULL PRIMARY KEY, TownshipName text NOT NULL);'\n",
        "        create_table(conn, create_query, drop_table_name='Township')\n",
        "        insert_query = \"INSERT INTO Township (TownshipName) VALUES (?)\"\n",
        "        cur_region = conn.cursor()\n",
        "        cur_region.executemany(insert_query,l1)\n",
        "    #r = execute_sql_statement('SELECT * FROM Township',conn)\n",
        "    df = pd.read_sql_query('SELECT * FROM Township', conn)\n",
        "    df = df.head(5);\n",
        "    conn.commit()\n",
        "    conn.close()\n",
        "    return df"
      ]
    },
    {
      "cell_type": "code",
      "execution_count": null,
      "metadata": {
        "colab": {
          "base_uri": "https://localhost:8080/",
          "height": 217
        },
        "id": "9_KsK1ymRhB-",
        "outputId": "7bb286c2-1506-4dd5-b56b-4970aed91a2b"
      },
      "outputs": [
        {
          "data": {
            "text/html": [
              "<style  type=\"text/css\" >\n",
              "    #T_d4d5df18_61aa_11ec_b8f7_98e7f411c445 th {\n",
              "          background: #420929;\n",
              "          color: white;\n",
              "          font-family: verdana;\n",
              "    }    #T_d4d5df18_61aa_11ec_b8f7_98e7f411c445 td {\n",
              "          border: 2px solid black;\n",
              "          background: #fff5eb;\n",
              "          color: black;\n",
              "          font-family: verdana;\n",
              "    }    #T_d4d5df18_61aa_11ec_b8f7_98e7f411c445row0_col0 {\n",
              "            background-color:  #f7fbff;\n",
              "        }    #T_d4d5df18_61aa_11ec_b8f7_98e7f411c445row1_col0 {\n",
              "            background-color:  #c6dbef;\n",
              "        }    #T_d4d5df18_61aa_11ec_b8f7_98e7f411c445row2_col0 {\n",
              "            background-color:  #6aaed6;\n",
              "        }    #T_d4d5df18_61aa_11ec_b8f7_98e7f411c445row3_col0 {\n",
              "            background-color:  #2070b4;\n",
              "        }    #T_d4d5df18_61aa_11ec_b8f7_98e7f411c445row4_col0 {\n",
              "            background-color:  #08306b;\n",
              "        }</style>  \n",
              "<table id=\"T_d4d5df18_61aa_11ec_b8f7_98e7f411c445\" > \n",
              "<thead>    <tr> \n",
              "        <th class=\"col_heading level0 col0\" >TownshipID</th> \n",
              "        <th class=\"col_heading level0 col1\" >TownshipName</th> \n",
              "    </tr></thead> \n",
              "<tbody>    <tr> \n",
              "        <td id=\"T_d4d5df18_61aa_11ec_b8f7_98e7f411c445row0_col0\" class=\"data row0 col0\" >1</td> \n",
              "        <td id=\"T_d4d5df18_61aa_11ec_b8f7_98e7f411c445row0_col1\" class=\"data row0 col1\" >ABINGTON</td> \n",
              "    </tr>    <tr> \n",
              "        <td id=\"T_d4d5df18_61aa_11ec_b8f7_98e7f411c445row1_col0\" class=\"data row1 col0\" >2</td> \n",
              "        <td id=\"T_d4d5df18_61aa_11ec_b8f7_98e7f411c445row1_col1\" class=\"data row1 col1\" >AMBLER</td> \n",
              "    </tr>    <tr> \n",
              "        <td id=\"T_d4d5df18_61aa_11ec_b8f7_98e7f411c445row2_col0\" class=\"data row2 col0\" >3</td> \n",
              "        <td id=\"T_d4d5df18_61aa_11ec_b8f7_98e7f411c445row2_col1\" class=\"data row2 col1\" >BERKS COUNTY</td> \n",
              "    </tr>    <tr> \n",
              "        <td id=\"T_d4d5df18_61aa_11ec_b8f7_98e7f411c445row3_col0\" class=\"data row3 col0\" >4</td> \n",
              "        <td id=\"T_d4d5df18_61aa_11ec_b8f7_98e7f411c445row3_col1\" class=\"data row3 col1\" >BRIDGEPORT</td> \n",
              "    </tr>    <tr> \n",
              "        <td id=\"T_d4d5df18_61aa_11ec_b8f7_98e7f411c445row4_col0\" class=\"data row4 col0\" >5</td> \n",
              "        <td id=\"T_d4d5df18_61aa_11ec_b8f7_98e7f411c445row4_col1\" class=\"data row4 col1\" >BRYN ATHYN</td> \n",
              "    </tr></tbody> \n",
              "</table> "
            ],
            "text/plain": [
              "<pandas.io.formats.style.Styler at 0x16fc060a1d0>"
            ]
          },
          "execution_count": 11,
          "metadata": {},
          "output_type": "execute_result"
        }
      ],
      "source": [
        "df = step3_create_township_table('911.csv', '911data.db')\n",
        "beautify_table(df)"
      ]
    },
    {
      "cell_type": "markdown",
      "metadata": {
        "id": "5SkJTF5CRhB_"
      },
      "source": [
        "### To Create Township dictionary"
      ]
    },
    {
      "cell_type": "code",
      "execution_count": null,
      "metadata": {
        "id": "MgqLVLEAiRkl"
      },
      "outputs": [],
      "source": [
        "def step4_create_township_dictionary(normalized_database_filename):\n",
        "    twp_dict = {}\n",
        "    conn = create_connection(normalized_database_filename)\n",
        "    sql_statement = \"Select * from Township\"\n",
        "    df = execute_sql_statement(sql_statement,conn)\n",
        "    for row in df:\n",
        "        twp_dict[row[1]] = row[0];\n",
        "    conn.close()\n",
        "    return twp_dict"
      ]
    },
    {
      "cell_type": "code",
      "execution_count": null,
      "metadata": {
        "colab": {
          "base_uri": "https://localhost:8080/"
        },
        "id": "Z25PGhf7zmRj",
        "outputId": "73405e87-08de-4a5e-8a29-a9f8db16feb9"
      },
      "outputs": [
        {
          "data": {
            "text/plain": [
              "{'ABINGTON': 1,\n",
              " 'AMBLER': 2,\n",
              " 'BERKS COUNTY': 3,\n",
              " 'BRIDGEPORT': 4,\n",
              " 'BRYN ATHYN': 5,\n",
              " 'BUCKS COUNTY': 6,\n",
              " 'CHELTENHAM': 7,\n",
              " 'CHESTER COUNTY': 8,\n",
              " 'COLLEGEVILLE': 9,\n",
              " 'CONSHOHOCKEN': 10,\n",
              " 'DELAWARE COUNTY': 11,\n",
              " 'DOUGLASS': 12,\n",
              " 'EAST GREENVILLE': 13,\n",
              " 'EAST NORRITON': 14,\n",
              " 'FRANCONIA': 15,\n",
              " 'GREEN LANE': 16,\n",
              " 'HATBORO': 17,\n",
              " 'HATFIELD BORO': 18,\n",
              " 'HATFIELD TOWNSHIP': 19,\n",
              " 'HORSHAM': 20,\n",
              " 'JENKINTOWN': 21,\n",
              " 'LANSDALE': 22,\n",
              " 'LEHIGH COUNTY': 23,\n",
              " 'LIMERICK': 24,\n",
              " 'LOWER FREDERICK': 25,\n",
              " 'LOWER GWYNEDD': 26,\n",
              " 'LOWER MERION': 27,\n",
              " 'LOWER MORELAND': 28,\n",
              " 'LOWER POTTSGROVE': 29,\n",
              " 'LOWER PROVIDENCE': 30,\n",
              " 'LOWER SALFORD': 31,\n",
              " 'MARLBOROUGH': 32,\n",
              " 'MONTGOMERY': 33,\n",
              " 'NARBERTH': 34,\n",
              " 'NEW HANOVER': 35,\n",
              " 'NORRISTOWN': 36,\n",
              " 'NORTH WALES': 37,\n",
              " 'PENNSBURG': 38,\n",
              " 'PERKIOMEN': 39,\n",
              " 'PHILA COUNTY': 40,\n",
              " 'PLYMOUTH': 41,\n",
              " 'POTTSTOWN': 42,\n",
              " 'RED HILL': 43,\n",
              " 'ROCKLEDGE': 44,\n",
              " 'ROYERSFORD': 45,\n",
              " 'SALFORD': 46,\n",
              " 'SCHWENKSVILLE': 47,\n",
              " 'SKIPPACK': 48,\n",
              " 'SOUDERTON': 49,\n",
              " 'SPRINGFIELD': 50,\n",
              " 'TELFORD': 51,\n",
              " 'TOWAMENCIN': 52,\n",
              " 'TRAPPE': 53,\n",
              " 'UPPER DUBLIN': 54,\n",
              " 'UPPER FREDERICK': 55,\n",
              " 'UPPER GWYNEDD': 56,\n",
              " 'UPPER HANOVER': 57,\n",
              " 'UPPER MERION': 58,\n",
              " 'UPPER MORELAND': 59,\n",
              " 'UPPER POTTSGROVE': 60,\n",
              " 'UPPER PROVIDENCE': 61,\n",
              " 'UPPER SALFORD': 62,\n",
              " 'WEST CONSHOHOCKEN': 63,\n",
              " 'WEST NORRITON': 64,\n",
              " 'WEST POTTSGROVE': 65,\n",
              " 'WHITEMARSH': 66,\n",
              " 'WHITPAIN': 67,\n",
              " 'WORCESTER': 68}"
            ]
          },
          "execution_count": 13,
          "metadata": {},
          "output_type": "execute_result"
        }
      ],
      "source": [
        "step4_create_township_dictionary('911data.db')\n"
      ]
    },
    {
      "cell_type": "markdown",
      "metadata": {
        "id": "zLC64_pmRhB_"
      },
      "source": [
        "### To Create and insert data for IncidentCategory table"
      ]
    },
    {
      "cell_type": "code",
      "execution_count": null,
      "metadata": {
        "id": "85c1nrP1ykvB"
      },
      "outputs": [],
      "source": [
        "def step5_create_IncidentCategory_table(data_filename,normalized_database_filename):\n",
        "    # Inputs: Name of the data and normalized database filename\n",
        "    # Output: dataframe to show five of the inserted rows\n",
        "    conn = create_connection(normalized_database_filename)\n",
        "    cat_list = []\n",
        "    with open(data_filename,'r') as f1:\n",
        "        for i in f1:\n",
        "            if i.split(',')[4] != 'title':\n",
        "                d = i.split(',')[4].strip()\n",
        "                if d == '':\n",
        "                    d = ('No_info','No_info')\n",
        "                if (d.split(':')[0].strip(),) not in cat_list:\n",
        "                    cat_list.append((d.split(':')[0].strip(),))\n",
        "    f1.close()\n",
        "    sort_func = lambda s: s[0]\n",
        "    cat_list = sorted(cat_list,key = sort_func)\n",
        "\n",
        "    with conn:\n",
        "        create_query = '''\n",
        "        CREATE TABLE IF NOT EXISTS IncidentCategory\n",
        "        (CategoryID Integer NOT NULL PRIMARY KEY AUTOINCREMENT,\n",
        "        Category text NOT NULL);'''\n",
        "        create_table(conn, create_query, drop_table_name='IncidentCategory')\n",
        "        insert_query = \"INSERT INTO IncidentCategory (Category) VALUES (?)\"\n",
        "        cur_region = conn.cursor()\n",
        "        cur_region.executemany(insert_query,cat_list)\n",
        "    #r = execute_sql_statement('SELECT * FROM IncidentCategory',conn)\n",
        "    df = pd.read_sql_query('SELECT * FROM IncidentCategory', conn)\n",
        "    df = df.head(5);\n",
        "    conn.commit()\n",
        "    conn.close()\n",
        "    return df"
      ]
    },
    {
      "cell_type": "code",
      "execution_count": null,
      "metadata": {
        "colab": {
          "base_uri": "https://localhost:8080/",
          "height": 150
        },
        "id": "U7nCII9Vb0a5",
        "outputId": "c8d91ffd-5e1b-4d75-839b-bbcbc0d0ada5"
      },
      "outputs": [
        {
          "data": {
            "text/html": [
              "<style  type=\"text/css\" >\n",
              "    #T_d77f33b4_61aa_11ec_aa99_98e7f411c445 th {\n",
              "          background: #420929;\n",
              "          color: white;\n",
              "          font-family: verdana;\n",
              "    }    #T_d77f33b4_61aa_11ec_aa99_98e7f411c445 td {\n",
              "          border: 2px solid black;\n",
              "          background: #fff5eb;\n",
              "          color: black;\n",
              "          font-family: verdana;\n",
              "    }    #T_d77f33b4_61aa_11ec_aa99_98e7f411c445row0_col0 {\n",
              "            background-color:  #f7fbff;\n",
              "        }    #T_d77f33b4_61aa_11ec_aa99_98e7f411c445row1_col0 {\n",
              "            background-color:  #6aaed6;\n",
              "        }    #T_d77f33b4_61aa_11ec_aa99_98e7f411c445row2_col0 {\n",
              "            background-color:  #08306b;\n",
              "        }</style>  \n",
              "<table id=\"T_d77f33b4_61aa_11ec_aa99_98e7f411c445\" > \n",
              "<thead>    <tr> \n",
              "        <th class=\"col_heading level0 col0\" >CategoryID</th> \n",
              "        <th class=\"col_heading level0 col1\" >Category</th> \n",
              "    </tr></thead> \n",
              "<tbody>    <tr> \n",
              "        <td id=\"T_d77f33b4_61aa_11ec_aa99_98e7f411c445row0_col0\" class=\"data row0 col0\" >1</td> \n",
              "        <td id=\"T_d77f33b4_61aa_11ec_aa99_98e7f411c445row0_col1\" class=\"data row0 col1\" >EMS</td> \n",
              "    </tr>    <tr> \n",
              "        <td id=\"T_d77f33b4_61aa_11ec_aa99_98e7f411c445row1_col0\" class=\"data row1 col0\" >2</td> \n",
              "        <td id=\"T_d77f33b4_61aa_11ec_aa99_98e7f411c445row1_col1\" class=\"data row1 col1\" >Fire</td> \n",
              "    </tr>    <tr> \n",
              "        <td id=\"T_d77f33b4_61aa_11ec_aa99_98e7f411c445row2_col0\" class=\"data row2 col0\" >3</td> \n",
              "        <td id=\"T_d77f33b4_61aa_11ec_aa99_98e7f411c445row2_col1\" class=\"data row2 col1\" >Traffic</td> \n",
              "    </tr></tbody> \n",
              "</table> "
            ],
            "text/plain": [
              "<pandas.io.formats.style.Styler at 0x16fc069a240>"
            ]
          },
          "execution_count": 15,
          "metadata": {},
          "output_type": "execute_result"
        }
      ],
      "source": [
        "df = step5_create_IncidentCategory_table('911.csv', '911data.db')\n",
        "beautify_table(df)"
      ]
    },
    {
      "cell_type": "markdown",
      "metadata": {
        "id": "ZIKwDfzT0rRu"
      },
      "source": [
        "### To Create IncidentCategory dictionary"
      ]
    },
    {
      "cell_type": "code",
      "execution_count": null,
      "metadata": {
        "id": "WaFsxpdL0vqd"
      },
      "outputs": [],
      "source": [
        "def step6_create_IncidentCategory_dictionary(normalized_database_filename):\n",
        "    cat_dict = {}\n",
        "    conn = create_connection(normalized_database_filename)\n",
        "    sql_statement = \"Select * from IncidentCategory\"\n",
        "    df = execute_sql_statement(sql_statement,conn)\n",
        "    for row in df:\n",
        "        cat_dict[row[1]] = row[0];\n",
        "    conn.close()\n",
        "    return cat_dict;"
      ]
    },
    {
      "cell_type": "code",
      "execution_count": null,
      "metadata": {
        "colab": {
          "base_uri": "https://localhost:8080/"
        },
        "id": "8ixFlJONRhCA",
        "outputId": "bbf4d96d-fb83-437c-ab47-8db559d56faf"
      },
      "outputs": [
        {
          "data": {
            "text/plain": [
              "{'EMS': 1, 'Fire': 2, 'Traffic': 3}"
            ]
          },
          "execution_count": 17,
          "metadata": {},
          "output_type": "execute_result"
        }
      ],
      "source": [
        "step6_create_IncidentCategory_dictionary('911data.db')"
      ]
    },
    {
      "cell_type": "markdown",
      "metadata": {
        "id": "z6IWBqzF2SCN"
      },
      "source": [
        "### To Create and insert data for IncidentSubCategory table"
      ]
    },
    {
      "cell_type": "code",
      "execution_count": null,
      "metadata": {
        "id": "kdJRJelb2VlE"
      },
      "outputs": [],
      "source": [
        "def step7_create_IncidentSubCategory_table(data_filename,normalized_database_filename):\n",
        "    # Inputs: Name of the data and normalized database filename\n",
        "    # Output: dataframe to show five of the inserted rows\n",
        "    conn = create_connection(normalized_database_filename)\n",
        "    subcat_list = []\n",
        "    cat_dict = step6_create_IncidentCategory_dictionary(normalized_database_filename)\n",
        "    with open(data_filename,'r') as f1:\n",
        "        for i in f1:\n",
        "            cat_id = 0\n",
        "            if i.split(',')[4] != 'title':\n",
        "                d = i.split(',')[4].strip()\n",
        "                if d == '':\n",
        "                    d = (0,'No_info')\n",
        "                cat_id = cat_dict[d.split(':')[0].strip()];\n",
        "                if (cat_id,d.split(':')[1].strip()) not in subcat_list:\n",
        "                    subcat_list.append((cat_id,d.split(':')[1].strip()))\n",
        "    f1.close()\n",
        "    sort_func = lambda s: s[0]\n",
        "    subcat_list = sorted(subcat_list,key = sort_func)\n",
        "    with conn:\n",
        "        create_query = '''\n",
        "        CREATE TABLE IF NOT EXISTS IncidentSubCategory\n",
        "        (SubCategoryID Integer NOT NULL PRIMARY KEY AUTOINCREMENT,\n",
        "        CategoryID Integer NOT NULL,\n",
        "        SubCategory Text NOT NULL,\n",
        "        foreign key(CategoryID) references IncidentCategory(CategoryID));'''\n",
        "        create_table(conn, create_query, drop_table_name='IncidentSubCategory')\n",
        "        insert_query = \"INSERT INTO IncidentSubCategory (CategoryID,SubCategory) VALUES (?,?)\"\n",
        "        cur_region = conn.cursor()\n",
        "        cur_region.executemany(insert_query,subcat_list)\n",
        "    #r = execute_sql_statement('SELECT * FROM IncidentSubCategory',conn)\n",
        "    df = pd.read_sql_query('SELECT * FROM IncidentSubCategory', conn)\n",
        "    df = df.head(5);\n",
        "    #display(r)\n",
        "    conn.commit()\n",
        "    conn.close()"
      ]
    },
    {
      "cell_type": "code",
      "execution_count": null,
      "metadata": {
        "colab": {
          "base_uri": "https://localhost:8080/",
          "height": 150
        },
        "id": "-xLv7a3MRhCB",
        "outputId": "e9c70801-19f1-44f9-fd83-e0b1ab377437"
      },
      "outputs": [
        {
          "data": {
            "text/html": [
              "<style  type=\"text/css\" >\n",
              "    #T_dafd9f62_61aa_11ec_b042_98e7f411c445 th {\n",
              "          background: #420929;\n",
              "          color: white;\n",
              "          font-family: verdana;\n",
              "    }    #T_dafd9f62_61aa_11ec_b042_98e7f411c445 td {\n",
              "          border: 2px solid black;\n",
              "          background: #fff5eb;\n",
              "          color: black;\n",
              "          font-family: verdana;\n",
              "    }    #T_dafd9f62_61aa_11ec_b042_98e7f411c445row0_col0 {\n",
              "            background-color:  #f7fbff;\n",
              "        }    #T_dafd9f62_61aa_11ec_b042_98e7f411c445row1_col0 {\n",
              "            background-color:  #6aaed6;\n",
              "        }    #T_dafd9f62_61aa_11ec_b042_98e7f411c445row2_col0 {\n",
              "            background-color:  #08306b;\n",
              "        }</style>  \n",
              "<table id=\"T_dafd9f62_61aa_11ec_b042_98e7f411c445\" > \n",
              "<thead>    <tr> \n",
              "        <th class=\"col_heading level0 col0\" >CategoryID</th> \n",
              "        <th class=\"col_heading level0 col1\" >Category</th> \n",
              "    </tr></thead> \n",
              "<tbody>    <tr> \n",
              "        <td id=\"T_dafd9f62_61aa_11ec_b042_98e7f411c445row0_col0\" class=\"data row0 col0\" >1</td> \n",
              "        <td id=\"T_dafd9f62_61aa_11ec_b042_98e7f411c445row0_col1\" class=\"data row0 col1\" >EMS</td> \n",
              "    </tr>    <tr> \n",
              "        <td id=\"T_dafd9f62_61aa_11ec_b042_98e7f411c445row1_col0\" class=\"data row1 col0\" >2</td> \n",
              "        <td id=\"T_dafd9f62_61aa_11ec_b042_98e7f411c445row1_col1\" class=\"data row1 col1\" >Fire</td> \n",
              "    </tr>    <tr> \n",
              "        <td id=\"T_dafd9f62_61aa_11ec_b042_98e7f411c445row2_col0\" class=\"data row2 col0\" >3</td> \n",
              "        <td id=\"T_dafd9f62_61aa_11ec_b042_98e7f411c445row2_col1\" class=\"data row2 col1\" >Traffic</td> \n",
              "    </tr></tbody> \n",
              "</table> "
            ],
            "text/plain": [
              "<pandas.io.formats.style.Styler at 0x16fc069a128>"
            ]
          },
          "execution_count": 19,
          "metadata": {},
          "output_type": "execute_result"
        }
      ],
      "source": [
        "step7_create_IncidentSubCategory_table('911.csv', '911data.db')\n",
        "beautify_table(df)"
      ]
    },
    {
      "cell_type": "markdown",
      "metadata": {
        "id": "HKNWQIEF6GC9"
      },
      "source": [
        "### To Create IncidentSubCategory dictionary"
      ]
    },
    {
      "cell_type": "code",
      "execution_count": null,
      "metadata": {
        "id": "3acc95S66JW6"
      },
      "outputs": [],
      "source": [
        "def step8_create_IncidentSubCategory_dictionary(normalized_database_filename):\n",
        "    subcat_dict = {}\n",
        "    conn = create_connection(normalized_database_filename)\n",
        "    sql_statement = \"Select * from IncidentSubCategory\"\n",
        "    df = execute_sql_statement(sql_statement,conn)\n",
        "    for row in df:\n",
        "        subcat_dict[row[2]] = row[0];\n",
        "    conn.close()\n",
        "    return subcat_dict"
      ]
    },
    {
      "cell_type": "code",
      "execution_count": null,
      "metadata": {
        "id": "WGlLIykyRhCC"
      },
      "outputs": [],
      "source": [
        "subcat_dict = step8_create_IncidentSubCategory_dictionary('911data.db')"
      ]
    },
    {
      "cell_type": "markdown",
      "metadata": {
        "id": "soV5U9_W8BMB"
      },
      "source": [
        "### To Create and insert data for CallRecord table"
      ]
    },
    {
      "cell_type": "code",
      "execution_count": null,
      "metadata": {
        "id": "gmMoBICr2JgK"
      },
      "outputs": [],
      "source": [
        "def step9_create_Callrecord_table(data_filename,normalized_database_filename):\n",
        "    # Inputs: Name of the data and normalized database filename\n",
        "    # Output: dataframe to show five of the inserted rows\n",
        "    conn = create_connection(normalized_database_filename)\n",
        "    record_list = []\n",
        "    cat_dict = step6_create_IncidentCategory_dictionary(normalized_database_filename);\n",
        "    subcat_dict = step8_create_IncidentSubCategory_dictionary(normalized_database_filename)\n",
        "    twp_dict = step4_create_township_dictionary(normalized_database_filename)\n",
        "    tod_dict = step2_create_timeofday_dictionary(normalized_database_filename)\n",
        "    time_details = {range(5,12):('Morning',5,11),range(12,17):('Afternoon',12,16),range(17,21):('Evening',17,20),range(21, 24):('Night',21,4),range(0, 5):('Night',21,4)}\n",
        "    with open(data_filename,'r') as f1:\n",
        "        for i in f1:\n",
        "            record_ele = []\n",
        "            if i.split(',')[0] != 'lat':\n",
        "                d = i.split(',')[0].strip()\n",
        "                if d == '':\n",
        "                    record_ele.append(None)\n",
        "                else:\n",
        "                    record_ele.append(d) #lat\n",
        "            if i.split(',')[1] != 'lng':\n",
        "                d = i.split(',')[1].strip()\n",
        "                if d == '':\n",
        "                    record_ele.append(None)\n",
        "                else:\n",
        "                    record_ele.append(d) #lng\n",
        "            if i.split(',')[4] != 'title':\n",
        "                d = i.split(',')[4].strip()\n",
        "                if d == '':\n",
        "                    record_ele.append(None)\n",
        "                    record_ele.append(None)\n",
        "                else:\n",
        "                    record_ele.append( cat_dict[d.split(':')[0].strip()] ) #Category ID\n",
        "                    record_ele.append( subcat_dict[d.split(':')[1].strip()] ) #Sub Category ID\n",
        "            if i.split(',')[2] != 'desc':\n",
        "                d = i.split(',')[2].strip()\n",
        "                if d == '':\n",
        "                    d = 'No_info'\n",
        "                record_ele.append( d ) #Description\n",
        "            if i.split(',')[3] != 'zip':\n",
        "                d = i.split(',')[3].strip()\n",
        "                if d == '':\n",
        "                    d = None\n",
        "                record_ele.append( d ) #Zip\n",
        "            if i.split(',')[6] != 'twp':\n",
        "                d = i.split(',')[6].strip()\n",
        "                if d == '':\n",
        "                    d = None\n",
        "                else:\n",
        "                    d = twp_dict[d]\n",
        "                record_ele.append(d)  #Twp\n",
        "            if i.split(',')[7] != 'addr':\n",
        "                d = i.split(',')[7].strip()\n",
        "                if d == '':\n",
        "                    d = 'No_info'\n",
        "                record_ele.append(d)  #Address\n",
        "            if i.split(',')[5] != 'timeStamp':\n",
        "                d = i.split(',')[5]\n",
        "                if d == '':\n",
        "                    record_ele.append(None)\n",
        "                    record_ele.append(None)\n",
        "                else:\n",
        "                    record_ele.append(d.strip().split(' ')[0]) #Date\n",
        "                    for k in time_details.keys():\n",
        "                        if int(d.strip().split(' ')[1].split(':')[0]) in k:\n",
        "                            record_ele.append(tod_dict[ time_details[k][0] ] ) #time of day\n",
        "            record_list.append(tuple(record_ele))\n",
        "    record_list = record_list[1:]\n",
        "    print(len(record_list))\n",
        "    f1.close()\n",
        "\n",
        "    with conn:\n",
        "        create_query =\"\"\"\n",
        "        CREATE TABLE IF NOT EXISTS CallRecord (\n",
        "          [RecordID] integer not null Primary Key AUTOINCREMENT,\n",
        "          [latitude] real null,\n",
        "          [longitude] real null,\n",
        "          [CategoryID] integer not null,\n",
        "          [SubCategoryID] integer not null,\n",
        "          [Desc] Text not null,\n",
        "          [Zip] integer null,\n",
        "          [TownshipID] integer null,\n",
        "          [Address] Text null,\n",
        "          [Date] Date null ,\n",
        "          [TimeOfDayID] integer null,\n",
        "          FOREIGN KEY(CategoryID) REFERENCES IncidentCategory(CategoryID),\n",
        "          FOREIGN KEY(SubCategoryID) REFERENCES IncidentSubCategory(SubCategoryID),\n",
        "          FOREIGN KEY(TownshipID) REFERENCES Township(TownshipID),\n",
        "          FOREIGN KEY(TimeOfDayID) REFERENCES TimeOfDay(TimeOfDayID)\n",
        "        );\n",
        "        \"\"\"\n",
        "        create_table(conn, create_query, drop_table_name='CallRecord')\n",
        "        insert_query = '''INSERT INTO CallRecord (latitude,longitude,CategoryID,SubCategoryID,Desc,Zip,TownshipID,Address,Date,TimeOfDayID)\n",
        "        VALUES (?,?,?,?,?,?,?,?,?,?)'''\n",
        "        cur_region = conn.cursor()\n",
        "        cur_region.executemany(insert_query,record_list)\n",
        "    #r = execute_sql_statement('SELECT count(*) FROM CallRecord',conn)\n",
        "    df = pd.read_sql_query('SELECT * FROM CallRecord', conn)\n",
        "    df = df.head(5);\n",
        "    conn.commit()\n",
        "    conn.close()\n",
        "    return df"
      ]
    },
    {
      "cell_type": "code",
      "execution_count": null,
      "metadata": {
        "colab": {
          "base_uri": "https://localhost:8080/",
          "height": 550
        },
        "id": "PQb-R6Y8RhCD",
        "outputId": "d96ed714-f0f6-4062-94cb-5b6102835691"
      },
      "outputs": [
        {
          "name": "stdout",
          "output_type": "stream",
          "text": [
            "663522\n"
          ]
        },
        {
          "name": "stderr",
          "output_type": "stream",
          "text": [
            "C:\\ProgramData\\Anaconda3\\lib\\site-packages\\matplotlib\\colors.py:504: RuntimeWarning: invalid value encountered in less\n",
            "  xa[xa < 0] = -1\n"
          ]
        },
        {
          "data": {
            "text/html": [
              "<style  type=\"text/css\" >\n",
              "    #T_efba0c28_61aa_11ec_91fe_98e7f411c445 th {\n",
              "          background: #420929;\n",
              "          color: white;\n",
              "          font-family: verdana;\n",
              "    }    #T_efba0c28_61aa_11ec_91fe_98e7f411c445 td {\n",
              "          border: 2px solid black;\n",
              "          background: #fff5eb;\n",
              "          color: black;\n",
              "          font-family: verdana;\n",
              "    }    #T_efba0c28_61aa_11ec_91fe_98e7f411c445row0_col0 {\n",
              "            background-color:  #f7fbff;\n",
              "        }    #T_efba0c28_61aa_11ec_91fe_98e7f411c445row0_col1 {\n",
              "            background-color:  #08306b;\n",
              "        }    #T_efba0c28_61aa_11ec_91fe_98e7f411c445row0_col2 {\n",
              "            background-color:  #eaf3fb;\n",
              "        }    #T_efba0c28_61aa_11ec_91fe_98e7f411c445row0_col3 {\n",
              "            background-color:  #f7fbff;\n",
              "        }    #T_efba0c28_61aa_11ec_91fe_98e7f411c445row0_col4 {\n",
              "            background-color:  #f7fbff;\n",
              "        }    #T_efba0c28_61aa_11ec_91fe_98e7f411c445row0_col6 {\n",
              "            background-color:  #08306b;\n",
              "        }    #T_efba0c28_61aa_11ec_91fe_98e7f411c445row0_col7 {\n",
              "            background-color:  #084082;\n",
              "        }    #T_efba0c28_61aa_11ec_91fe_98e7f411c445row0_col10 {\n",
              "            background-color:  #08306b;\n",
              "        }    #T_efba0c28_61aa_11ec_91fe_98e7f411c445row1_col0 {\n",
              "            background-color:  #c6dbef;\n",
              "        }    #T_efba0c28_61aa_11ec_91fe_98e7f411c445row1_col1 {\n",
              "            background-color:  #1b69af;\n",
              "        }    #T_efba0c28_61aa_11ec_91fe_98e7f411c445row1_col2 {\n",
              "            background-color:  #08306b;\n",
              "        }    #T_efba0c28_61aa_11ec_91fe_98e7f411c445row1_col3 {\n",
              "            background-color:  #f7fbff;\n",
              "        }    #T_efba0c28_61aa_11ec_91fe_98e7f411c445row1_col4 {\n",
              "            background-color:  #0f5aa3;\n",
              "        }    #T_efba0c28_61aa_11ec_91fe_98e7f411c445row1_col6 {\n",
              "            background-color:  #a3cce3;\n",
              "        }    #T_efba0c28_61aa_11ec_91fe_98e7f411c445row1_col7 {\n",
              "            background-color:  #f7fbff;\n",
              "        }    #T_efba0c28_61aa_11ec_91fe_98e7f411c445row1_col10 {\n",
              "            background-color:  #08306b;\n",
              "        }    #T_efba0c28_61aa_11ec_91fe_98e7f411c445row2_col0 {\n",
              "            background-color:  #6aaed6;\n",
              "        }    #T_efba0c28_61aa_11ec_91fe_98e7f411c445row2_col1 {\n",
              "            background-color:  #f2f7fd;\n",
              "        }    #T_efba0c28_61aa_11ec_91fe_98e7f411c445row2_col2 {\n",
              "            background-color:  #2272b6;\n",
              "        }    #T_efba0c28_61aa_11ec_91fe_98e7f411c445row2_col3 {\n",
              "            background-color:  #08306b;\n",
              "        }    #T_efba0c28_61aa_11ec_91fe_98e7f411c445row2_col4 {\n",
              "            background-color:  #4b98ca;\n",
              "        }    #T_efba0c28_61aa_11ec_91fe_98e7f411c445row2_col6 {\n",
              "            background-color:  #f7fbff;\n",
              "        }    #T_efba0c28_61aa_11ec_91fe_98e7f411c445row2_col7 {\n",
              "            background-color:  #08306b;\n",
              "        }    #T_efba0c28_61aa_11ec_91fe_98e7f411c445row2_col10 {\n",
              "            background-color:  #f7fbff;\n",
              "        }    #T_efba0c28_61aa_11ec_91fe_98e7f411c445row3_col0 {\n",
              "            background-color:  #2070b4;\n",
              "        }    #T_efba0c28_61aa_11ec_91fe_98e7f411c445row3_col1 {\n",
              "            background-color:  #f7fbff;\n",
              "        }    #T_efba0c28_61aa_11ec_91fe_98e7f411c445row3_col2 {\n",
              "            background-color:  #1d6cb1;\n",
              "        }    #T_efba0c28_61aa_11ec_91fe_98e7f411c445row3_col3 {\n",
              "            background-color:  #f7fbff;\n",
              "        }    #T_efba0c28_61aa_11ec_91fe_98e7f411c445row3_col4 {\n",
              "            background-color:  #0a549e;\n",
              "        }    #T_efba0c28_61aa_11ec_91fe_98e7f411c445row3_col6 {\n",
              "            background-color:  #f7fbff;\n",
              "        }    #T_efba0c28_61aa_11ec_91fe_98e7f411c445row3_col7 {\n",
              "            background-color:  #08306b;\n",
              "        }    #T_efba0c28_61aa_11ec_91fe_98e7f411c445row3_col10 {\n",
              "            background-color:  #f7fbff;\n",
              "        }    #T_efba0c28_61aa_11ec_91fe_98e7f411c445row4_col0 {\n",
              "            background-color:  #08306b;\n",
              "        }    #T_efba0c28_61aa_11ec_91fe_98e7f411c445row4_col1 {\n",
              "            background-color:  #2272b6;\n",
              "        }    #T_efba0c28_61aa_11ec_91fe_98e7f411c445row4_col2 {\n",
              "            background-color:  #f7fbff;\n",
              "        }    #T_efba0c28_61aa_11ec_91fe_98e7f411c445row4_col3 {\n",
              "            background-color:  #f7fbff;\n",
              "        }    #T_efba0c28_61aa_11ec_91fe_98e7f411c445row4_col4 {\n",
              "            background-color:  #08306b;\n",
              "        }    #T_efba0c28_61aa_11ec_91fe_98e7f411c445row4_col6 {\n",
              "            background-color:  #f7fbff;\n",
              "        }    #T_efba0c28_61aa_11ec_91fe_98e7f411c445row4_col7 {\n",
              "            background-color:  #4e9acb;\n",
              "        }    #T_efba0c28_61aa_11ec_91fe_98e7f411c445row4_col10 {\n",
              "            background-color:  #f7fbff;\n",
              "        }</style>  \n",
              "<table id=\"T_efba0c28_61aa_11ec_91fe_98e7f411c445\" > \n",
              "<thead>    <tr> \n",
              "        <th class=\"col_heading level0 col0\" >RecordID</th> \n",
              "        <th class=\"col_heading level0 col1\" >latitude</th> \n",
              "        <th class=\"col_heading level0 col2\" >longitude</th> \n",
              "        <th class=\"col_heading level0 col3\" >CategoryID</th> \n",
              "        <th class=\"col_heading level0 col4\" >SubCategoryID</th> \n",
              "        <th class=\"col_heading level0 col5\" >Desc</th> \n",
              "        <th class=\"col_heading level0 col6\" >Zip</th> \n",
              "        <th class=\"col_heading level0 col7\" >TownshipID</th> \n",
              "        <th class=\"col_heading level0 col8\" >Address</th> \n",
              "        <th class=\"col_heading level0 col9\" >Date</th> \n",
              "        <th class=\"col_heading level0 col10\" >TimeOfDayID</th> \n",
              "    </tr></thead> \n",
              "<tbody>    <tr> \n",
              "        <td id=\"T_efba0c28_61aa_11ec_91fe_98e7f411c445row0_col0\" class=\"data row0 col0\" >1</td> \n",
              "        <td id=\"T_efba0c28_61aa_11ec_91fe_98e7f411c445row0_col1\" class=\"data row0 col1\" >40.2979</td> \n",
              "        <td id=\"T_efba0c28_61aa_11ec_91fe_98e7f411c445row0_col2\" class=\"data row0 col2\" >-75.5813</td> \n",
              "        <td id=\"T_efba0c28_61aa_11ec_91fe_98e7f411c445row0_col3\" class=\"data row0 col3\" >1</td> \n",
              "        <td id=\"T_efba0c28_61aa_11ec_91fe_98e7f411c445row0_col4\" class=\"data row0 col4\" >1</td> \n",
              "        <td id=\"T_efba0c28_61aa_11ec_91fe_98e7f411c445row0_col5\" class=\"data row0 col5\" >REINDEER CT & DEAD END;  NEW HANOVER; Station 332; 2015-12-10 @ 17:10:52;</td> \n",
              "        <td id=\"T_efba0c28_61aa_11ec_91fe_98e7f411c445row0_col6\" class=\"data row0 col6\" >19525</td> \n",
              "        <td id=\"T_efba0c28_61aa_11ec_91fe_98e7f411c445row0_col7\" class=\"data row0 col7\" >35</td> \n",
              "        <td id=\"T_efba0c28_61aa_11ec_91fe_98e7f411c445row0_col8\" class=\"data row0 col8\" >REINDEER CT & DEAD END</td> \n",
              "        <td id=\"T_efba0c28_61aa_11ec_91fe_98e7f411c445row0_col9\" class=\"data row0 col9\" >2015-12-10</td> \n",
              "        <td id=\"T_efba0c28_61aa_11ec_91fe_98e7f411c445row0_col10\" class=\"data row0 col10\" >3</td> \n",
              "    </tr>    <tr> \n",
              "        <td id=\"T_efba0c28_61aa_11ec_91fe_98e7f411c445row1_col0\" class=\"data row1 col0\" >2</td> \n",
              "        <td id=\"T_efba0c28_61aa_11ec_91fe_98e7f411c445row1_col1\" class=\"data row1 col1\" >40.2581</td> \n",
              "        <td id=\"T_efba0c28_61aa_11ec_91fe_98e7f411c445row1_col2\" class=\"data row1 col2\" >-75.2647</td> \n",
              "        <td id=\"T_efba0c28_61aa_11ec_91fe_98e7f411c445row1_col3\" class=\"data row1 col3\" >1</td> \n",
              "        <td id=\"T_efba0c28_61aa_11ec_91fe_98e7f411c445row1_col4\" class=\"data row1 col4\" >115</td> \n",
              "        <td id=\"T_efba0c28_61aa_11ec_91fe_98e7f411c445row1_col5\" class=\"data row1 col5\" >BRIAR PATH & WHITEMARSH LN;  HATFIELD TOWNSHIP; Station 345; 2015-12-10 @ 17:29:21;</td> \n",
              "        <td id=\"T_efba0c28_61aa_11ec_91fe_98e7f411c445row1_col6\" class=\"data row1 col6\" >19446</td> \n",
              "        <td id=\"T_efba0c28_61aa_11ec_91fe_98e7f411c445row1_col7\" class=\"data row1 col7\" >19</td> \n",
              "        <td id=\"T_efba0c28_61aa_11ec_91fe_98e7f411c445row1_col8\" class=\"data row1 col8\" >BRIAR PATH & WHITEMARSH LN</td> \n",
              "        <td id=\"T_efba0c28_61aa_11ec_91fe_98e7f411c445row1_col9\" class=\"data row1 col9\" >2015-12-10</td> \n",
              "        <td id=\"T_efba0c28_61aa_11ec_91fe_98e7f411c445row1_col10\" class=\"data row1 col10\" >3</td> \n",
              "    </tr>    <tr> \n",
              "        <td id=\"T_efba0c28_61aa_11ec_91fe_98e7f411c445row2_col0\" class=\"data row2 col0\" >3</td> \n",
              "        <td id=\"T_efba0c28_61aa_11ec_91fe_98e7f411c445row2_col1\" class=\"data row2 col1\" >40.1212</td> \n",
              "        <td id=\"T_efba0c28_61aa_11ec_91fe_98e7f411c445row2_col2\" class=\"data row2 col2\" >-75.352</td> \n",
              "        <td id=\"T_efba0c28_61aa_11ec_91fe_98e7f411c445row2_col3\" class=\"data row2 col3\" >2</td> \n",
              "        <td id=\"T_efba0c28_61aa_11ec_91fe_98e7f411c445row2_col4\" class=\"data row2 col4\" >82</td> \n",
              "        <td id=\"T_efba0c28_61aa_11ec_91fe_98e7f411c445row2_col5\" class=\"data row2 col5\" >HAWS AVE; NORRISTOWN; 2015-12-10 @ 14:39:21-Station:STA27;</td> \n",
              "        <td id=\"T_efba0c28_61aa_11ec_91fe_98e7f411c445row2_col6\" class=\"data row2 col6\" >19401</td> \n",
              "        <td id=\"T_efba0c28_61aa_11ec_91fe_98e7f411c445row2_col7\" class=\"data row2 col7\" >36</td> \n",
              "        <td id=\"T_efba0c28_61aa_11ec_91fe_98e7f411c445row2_col8\" class=\"data row2 col8\" >HAWS AVE</td> \n",
              "        <td id=\"T_efba0c28_61aa_11ec_91fe_98e7f411c445row2_col9\" class=\"data row2 col9\" >2015-12-10</td> \n",
              "        <td id=\"T_efba0c28_61aa_11ec_91fe_98e7f411c445row2_col10\" class=\"data row2 col10\" >2</td> \n",
              "    </tr>    <tr> \n",
              "        <td id=\"T_efba0c28_61aa_11ec_91fe_98e7f411c445row3_col0\" class=\"data row3 col0\" >4</td> \n",
              "        <td id=\"T_efba0c28_61aa_11ec_91fe_98e7f411c445row3_col1\" class=\"data row3 col1\" >40.1162</td> \n",
              "        <td id=\"T_efba0c28_61aa_11ec_91fe_98e7f411c445row3_col2\" class=\"data row3 col2\" >-75.3435</td> \n",
              "        <td id=\"T_efba0c28_61aa_11ec_91fe_98e7f411c445row3_col3\" class=\"data row3 col3\" >1</td> \n",
              "        <td id=\"T_efba0c28_61aa_11ec_91fe_98e7f411c445row3_col4\" class=\"data row3 col4\" >118</td> \n",
              "        <td id=\"T_efba0c28_61aa_11ec_91fe_98e7f411c445row3_col5\" class=\"data row3 col5\" >AIRY ST & SWEDE ST;  NORRISTOWN; Station 308A; 2015-12-10 @ 16:47:36;</td> \n",
              "        <td id=\"T_efba0c28_61aa_11ec_91fe_98e7f411c445row3_col6\" class=\"data row3 col6\" >19401</td> \n",
              "        <td id=\"T_efba0c28_61aa_11ec_91fe_98e7f411c445row3_col7\" class=\"data row3 col7\" >36</td> \n",
              "        <td id=\"T_efba0c28_61aa_11ec_91fe_98e7f411c445row3_col8\" class=\"data row3 col8\" >AIRY ST & SWEDE ST</td> \n",
              "        <td id=\"T_efba0c28_61aa_11ec_91fe_98e7f411c445row3_col9\" class=\"data row3 col9\" >2015-12-10</td> \n",
              "        <td id=\"T_efba0c28_61aa_11ec_91fe_98e7f411c445row3_col10\" class=\"data row3 col10\" >2</td> \n",
              "    </tr>    <tr> \n",
              "        <td id=\"T_efba0c28_61aa_11ec_91fe_98e7f411c445row4_col0\" class=\"data row4 col0\" >5</td> \n",
              "        <td id=\"T_efba0c28_61aa_11ec_91fe_98e7f411c445row4_col1\" class=\"data row4 col1\" >40.2515</td> \n",
              "        <td id=\"T_efba0c28_61aa_11ec_91fe_98e7f411c445row4_col2\" class=\"data row4 col2\" >-75.6033</td> \n",
              "        <td id=\"T_efba0c28_61aa_11ec_91fe_98e7f411c445row4_col3\" class=\"data row4 col3\" >1</td> \n",
              "        <td id=\"T_efba0c28_61aa_11ec_91fe_98e7f411c445row4_col4\" class=\"data row4 col4\" >137</td> \n",
              "        <td id=\"T_efba0c28_61aa_11ec_91fe_98e7f411c445row4_col5\" class=\"data row4 col5\" >CHERRYWOOD CT & DEAD END;  LOWER POTTSGROVE; Station 329; 2015-12-10 @ 16:56:52;</td> \n",
              "        <td id=\"T_efba0c28_61aa_11ec_91fe_98e7f411c445row4_col6\" class=\"data row4 col6\" >nan</td> \n",
              "        <td id=\"T_efba0c28_61aa_11ec_91fe_98e7f411c445row4_col7\" class=\"data row4 col7\" >29</td> \n",
              "        <td id=\"T_efba0c28_61aa_11ec_91fe_98e7f411c445row4_col8\" class=\"data row4 col8\" >CHERRYWOOD CT & DEAD END</td> \n",
              "        <td id=\"T_efba0c28_61aa_11ec_91fe_98e7f411c445row4_col9\" class=\"data row4 col9\" >2015-12-10</td> \n",
              "        <td id=\"T_efba0c28_61aa_11ec_91fe_98e7f411c445row4_col10\" class=\"data row4 col10\" >2</td> \n",
              "    </tr></tbody> \n",
              "</table> "
            ],
            "text/plain": [
              "<pandas.io.formats.style.Styler at 0x16fc060cef0>"
            ]
          },
          "execution_count": 23,
          "metadata": {},
          "output_type": "execute_result"
        }
      ],
      "source": [
        "df = step9_create_Callrecord_table('911.csv', '911data.db')\n",
        "#To view top 5 inserted rows\n",
        "beautify_table(df)"
      ]
    },
    {
      "cell_type": "markdown",
      "metadata": {
        "id": "VbrVdUkHRhCD"
      },
      "source": [
        "# ***Townships generating 50% of the Call traffic records***\n",
        "    "
      ]
    },
    {
      "cell_type": "code",
      "execution_count": null,
      "metadata": {
        "cellView": "form",
        "colab": {
          "base_uri": "https://localhost:8080/",
          "height": 398
        },
        "id": "XTkyi0giFzud",
        "outputId": "0c1d8d10-b654-4652-e6e9-68369dfad144"
      },
      "outputs": [
        {
          "data": {
            "text/html": [
              "<style  type=\"text/css\" >\n",
              "    #T_f1722726_61aa_11ec_b137_98e7f411c445 th {\n",
              "          background: #420929;\n",
              "          color: white;\n",
              "          font-family: verdana;\n",
              "    }    #T_f1722726_61aa_11ec_b137_98e7f411c445  {\n",
              "          border: 2px solid black;\n",
              "    }    #T_f1722726_61aa_11ec_b137_98e7f411c445row0_col1 {\n",
              "            background-color:  #7f2704;\n",
              "        }    #T_f1722726_61aa_11ec_b137_98e7f411c445row0_col2 {\n",
              "            background-color:  #7f2704;\n",
              "        }    #T_f1722726_61aa_11ec_b137_98e7f411c445row0_col3 {\n",
              "            background-color:  #fff5eb;\n",
              "        }    #T_f1722726_61aa_11ec_b137_98e7f411c445row1_col1 {\n",
              "            background-color:  #f57622;\n",
              "        }    #T_f1722726_61aa_11ec_b137_98e7f411c445row1_col2 {\n",
              "            background-color:  #f57622;\n",
              "        }    #T_f1722726_61aa_11ec_b137_98e7f411c445row1_col3 {\n",
              "            background-color:  #fee2c7;\n",
              "        }    #T_f1722726_61aa_11ec_b137_98e7f411c445row2_col1 {\n",
              "            background-color:  #fb8836;\n",
              "        }    #T_f1722726_61aa_11ec_b137_98e7f411c445row2_col2 {\n",
              "            background-color:  #fb8836;\n",
              "        }    #T_f1722726_61aa_11ec_b137_98e7f411c445row2_col3 {\n",
              "            background-color:  #fdc794;\n",
              "        }    #T_f1722726_61aa_11ec_b137_98e7f411c445row3_col1 {\n",
              "            background-color:  #fd9446;\n",
              "        }    #T_f1722726_61aa_11ec_b137_98e7f411c445row3_col2 {\n",
              "            background-color:  #fd9446;\n",
              "        }    #T_f1722726_61aa_11ec_b137_98e7f411c445row3_col3 {\n",
              "            background-color:  #fda35c;\n",
              "        }    #T_f1722726_61aa_11ec_b137_98e7f411c445row4_col1 {\n",
              "            background-color:  #fdba7f;\n",
              "        }    #T_f1722726_61aa_11ec_b137_98e7f411c445row4_col2 {\n",
              "            background-color:  #fdba7f;\n",
              "        }    #T_f1722726_61aa_11ec_b137_98e7f411c445row4_col3 {\n",
              "            background-color:  #fb8634;\n",
              "        }    #T_f1722726_61aa_11ec_b137_98e7f411c445row5_col1 {\n",
              "            background-color:  #fdd1a4;\n",
              "        }    #T_f1722726_61aa_11ec_b137_98e7f411c445row5_col2 {\n",
              "            background-color:  #fdd1a4;\n",
              "        }    #T_f1722726_61aa_11ec_b137_98e7f411c445row5_col3 {\n",
              "            background-color:  #f16813;\n",
              "        }    #T_f1722726_61aa_11ec_b137_98e7f411c445row6_col1 {\n",
              "            background-color:  #fee6cf;\n",
              "        }    #T_f1722726_61aa_11ec_b137_98e7f411c445row6_col2 {\n",
              "            background-color:  #fee6cf;\n",
              "        }    #T_f1722726_61aa_11ec_b137_98e7f411c445row6_col3 {\n",
              "            background-color:  #e15307;\n",
              "        }    #T_f1722726_61aa_11ec_b137_98e7f411c445row7_col1 {\n",
              "            background-color:  #fee8d2;\n",
              "        }    #T_f1722726_61aa_11ec_b137_98e7f411c445row7_col2 {\n",
              "            background-color:  #fee8d2;\n",
              "        }    #T_f1722726_61aa_11ec_b137_98e7f411c445row7_col3 {\n",
              "            background-color:  #c84202;\n",
              "        }    #T_f1722726_61aa_11ec_b137_98e7f411c445row8_col1 {\n",
              "            background-color:  #fff0e1;\n",
              "        }    #T_f1722726_61aa_11ec_b137_98e7f411c445row8_col2 {\n",
              "            background-color:  #fff0e1;\n",
              "        }    #T_f1722726_61aa_11ec_b137_98e7f411c445row8_col3 {\n",
              "            background-color:  #a93703;\n",
              "        }    #T_f1722726_61aa_11ec_b137_98e7f411c445row9_col1 {\n",
              "            background-color:  #fff4e8;\n",
              "        }    #T_f1722726_61aa_11ec_b137_98e7f411c445row9_col2 {\n",
              "            background-color:  #fff4e8;\n",
              "        }    #T_f1722726_61aa_11ec_b137_98e7f411c445row9_col3 {\n",
              "            background-color:  #942f03;\n",
              "        }    #T_f1722726_61aa_11ec_b137_98e7f411c445row10_col1 {\n",
              "            background-color:  #fff5eb;\n",
              "        }    #T_f1722726_61aa_11ec_b137_98e7f411c445row10_col2 {\n",
              "            background-color:  #fff5eb;\n",
              "        }    #T_f1722726_61aa_11ec_b137_98e7f411c445row10_col3 {\n",
              "            background-color:  #7f2704;\n",
              "        }</style>  \n",
              "<table id=\"T_f1722726_61aa_11ec_b137_98e7f411c445\" > \n",
              "<thead>    <tr> \n",
              "        <th class=\"col_heading level0 col0\" >TownshipName</th> \n",
              "        <th class=\"col_heading level0 col1\" >TotalCalls</th> \n",
              "        <th class=\"col_heading level0 col2\" >Percentage</th> \n",
              "        <th class=\"col_heading level0 col3\" >CummulativePercentage</th> \n",
              "    </tr></thead> \n",
              "<tbody>    <tr> \n",
              "        <td id=\"T_f1722726_61aa_11ec_b137_98e7f411c445row0_col0\" class=\"data row0 col0\" >LOWER MERION</td> \n",
              "        <td id=\"T_f1722726_61aa_11ec_b137_98e7f411c445row0_col1\" class=\"data row0 col1\" >55490</td> \n",
              "        <td id=\"T_f1722726_61aa_11ec_b137_98e7f411c445row0_col2\" class=\"data row0 col2\" >8.36664</td> \n",
              "        <td id=\"T_f1722726_61aa_11ec_b137_98e7f411c445row0_col3\" class=\"data row0 col3\" >8.36664</td> \n",
              "    </tr>    <tr> \n",
              "        <td id=\"T_f1722726_61aa_11ec_b137_98e7f411c445row1_col0\" class=\"data row1 col0\" >ABINGTON</td> \n",
              "        <td id=\"T_f1722726_61aa_11ec_b137_98e7f411c445row1_col1\" class=\"data row1 col1\" >39947</td> \n",
              "        <td id=\"T_f1722726_61aa_11ec_b137_98e7f411c445row1_col2\" class=\"data row1 col2\" >6.02311</td> \n",
              "        <td id=\"T_f1722726_61aa_11ec_b137_98e7f411c445row1_col3\" class=\"data row1 col3\" >14.3898</td> \n",
              "    </tr>    <tr> \n",
              "        <td id=\"T_f1722726_61aa_11ec_b137_98e7f411c445row2_col0\" class=\"data row2 col0\" >NORRISTOWN</td> \n",
              "        <td id=\"T_f1722726_61aa_11ec_b137_98e7f411c445row2_col1\" class=\"data row2 col1\" >37633</td> \n",
              "        <td id=\"T_f1722726_61aa_11ec_b137_98e7f411c445row2_col2\" class=\"data row2 col2\" >5.67421</td> \n",
              "        <td id=\"T_f1722726_61aa_11ec_b137_98e7f411c445row2_col3\" class=\"data row2 col3\" >20.064</td> \n",
              "    </tr>    <tr> \n",
              "        <td id=\"T_f1722726_61aa_11ec_b137_98e7f411c445row3_col0\" class=\"data row3 col0\" >UPPER MERION</td> \n",
              "        <td id=\"T_f1722726_61aa_11ec_b137_98e7f411c445row3_col1\" class=\"data row3 col1\" >36010</td> \n",
              "        <td id=\"T_f1722726_61aa_11ec_b137_98e7f411c445row3_col2\" class=\"data row3 col2\" >5.4295</td> \n",
              "        <td id=\"T_f1722726_61aa_11ec_b137_98e7f411c445row3_col3\" class=\"data row3 col3\" >25.4935</td> \n",
              "    </tr>    <tr> \n",
              "        <td id=\"T_f1722726_61aa_11ec_b137_98e7f411c445row4_col0\" class=\"data row4 col0\" >CHELTENHAM</td> \n",
              "        <td id=\"T_f1722726_61aa_11ec_b137_98e7f411c445row4_col1\" class=\"data row4 col1\" >30574</td> \n",
              "        <td id=\"T_f1722726_61aa_11ec_b137_98e7f411c445row4_col2\" class=\"data row4 col2\" >4.60987</td> \n",
              "        <td id=\"T_f1722726_61aa_11ec_b137_98e7f411c445row4_col3\" class=\"data row4 col3\" >30.1033</td> \n",
              "    </tr>    <tr> \n",
              "        <td id=\"T_f1722726_61aa_11ec_b137_98e7f411c445row5_col0\" class=\"data row5 col0\" >POTTSTOWN</td> \n",
              "        <td id=\"T_f1722726_61aa_11ec_b137_98e7f411c445row5_col1\" class=\"data row5 col1\" >27387</td> \n",
              "        <td id=\"T_f1722726_61aa_11ec_b137_98e7f411c445row5_col2\" class=\"data row5 col2\" >4.12934</td> \n",
              "        <td id=\"T_f1722726_61aa_11ec_b137_98e7f411c445row5_col3\" class=\"data row5 col3\" >34.2327</td> \n",
              "    </tr>    <tr> \n",
              "        <td id=\"T_f1722726_61aa_11ec_b137_98e7f411c445row6_col0\" class=\"data row6 col0\" >UPPER MORELAND</td> \n",
              "        <td id=\"T_f1722726_61aa_11ec_b137_98e7f411c445row6_col1\" class=\"data row6 col1\" >22932</td> \n",
              "        <td id=\"T_f1722726_61aa_11ec_b137_98e7f411c445row6_col2\" class=\"data row6 col2\" >3.45763</td> \n",
              "        <td id=\"T_f1722726_61aa_11ec_b137_98e7f411c445row6_col3\" class=\"data row6 col3\" >37.6903</td> \n",
              "    </tr>    <tr> \n",
              "        <td id=\"T_f1722726_61aa_11ec_b137_98e7f411c445row7_col0\" class=\"data row7 col0\" >LOWER PROVIDENCE</td> \n",
              "        <td id=\"T_f1722726_61aa_11ec_b137_98e7f411c445row7_col1\" class=\"data row7 col1\" >22476</td> \n",
              "        <td id=\"T_f1722726_61aa_11ec_b137_98e7f411c445row7_col2\" class=\"data row7 col2\" >3.38887</td> \n",
              "        <td id=\"T_f1722726_61aa_11ec_b137_98e7f411c445row7_col3\" class=\"data row7 col3\" >41.0792</td> \n",
              "    </tr>    <tr> \n",
              "        <td id=\"T_f1722726_61aa_11ec_b137_98e7f411c445row8_col0\" class=\"data row8 col0\" >PLYMOUTH</td> \n",
              "        <td id=\"T_f1722726_61aa_11ec_b137_98e7f411c445row8_col1\" class=\"data row8 col1\" >20116</td> \n",
              "        <td id=\"T_f1722726_61aa_11ec_b137_98e7f411c445row8_col2\" class=\"data row8 col2\" >3.03304</td> \n",
              "        <td id=\"T_f1722726_61aa_11ec_b137_98e7f411c445row8_col3\" class=\"data row8 col3\" >44.1122</td> \n",
              "    </tr>    <tr> \n",
              "        <td id=\"T_f1722726_61aa_11ec_b137_98e7f411c445row9_col0\" class=\"data row9 col0\" >UPPER DUBLIN</td> \n",
              "        <td id=\"T_f1722726_61aa_11ec_b137_98e7f411c445row9_col1\" class=\"data row9 col1\" >18862</td> \n",
              "        <td id=\"T_f1722726_61aa_11ec_b137_98e7f411c445row9_col2\" class=\"data row9 col2\" >2.84396</td> \n",
              "        <td id=\"T_f1722726_61aa_11ec_b137_98e7f411c445row9_col3\" class=\"data row9 col3\" >46.9562</td> \n",
              "    </tr>    <tr> \n",
              "        <td id=\"T_f1722726_61aa_11ec_b137_98e7f411c445row10_col0\" class=\"data row10 col0\" >HORSHAM</td> \n",
              "        <td id=\"T_f1722726_61aa_11ec_b137_98e7f411c445row10_col1\" class=\"data row10 col1\" >18380</td> \n",
              "        <td id=\"T_f1722726_61aa_11ec_b137_98e7f411c445row10_col2\" class=\"data row10 col2\" >2.77129</td> \n",
              "        <td id=\"T_f1722726_61aa_11ec_b137_98e7f411c445row10_col3\" class=\"data row10 col3\" >49.7275</td> \n",
              "    </tr></tbody> \n",
              "</table> "
            ],
            "text/plain": [
              "<pandas.io.formats.style.Styler at 0x16fda6b69b0>"
            ]
          },
          "execution_count": 24,
          "metadata": {},
          "output_type": "execute_result"
        }
      ],
      "source": [
        "#@title\n",
        "conn = create_connection('911data.db')\n",
        "sql_statement = f'select T.TownshipName'\\\n",
        "f',count(*) as TotalCalls from CallRecord CR inner join Township as T on CR.TownshipID = T.TownshipID and CR.TownshipID not null'\\\n",
        "f' group by T.TownshipID order by TotalCalls desc'\n",
        "df = pd.read_sql_query(sql_statement, conn)\n",
        "ts = sum(df['TotalCalls'])\n",
        "df['Percentage'] = df['TotalCalls'].apply(lambda x:(x/ts)*100)\n",
        "df['CummulativePercentage'] = df['TotalCalls'].cumsum().apply(lambda x:(x/ts)*100)\n",
        "df1 = pd.DataFrame(df.loc[df['CummulativePercentage']<=50])\n",
        "\n",
        "df1.style.hide_index().bar(subset=[\"Percentage\"], color='#FFA07A')\n",
        "df1.style.set_table_styles(\n",
        "[{'selector': 'th',\n",
        "  'props': [('background', '#420929'),\n",
        "            ('color', 'white'),\n",
        "            ('font-family', 'verdana')]},\n",
        " {'selector': '',\n",
        "  'props': [('border', '2px solid black'), ]\n",
        "  }\n",
        "\n",
        "]\n",
        ").hide_index().background_gradient(cmap='Oranges')\n"
      ]
    },
    {
      "cell_type": "markdown",
      "metadata": {
        "id": "DC97Fs7vRhCD"
      },
      "source": [
        "## Of total 68 townships 11 townships are accounting for 50% of the call traffic\n",
        "\n",
        "\n"
      ]
    },
    {
      "cell_type": "markdown",
      "metadata": {
        "id": "Qek782u2Temu"
      },
      "source": [
        "# ***Pie chart of call traffic with respect to time of the day***"
      ]
    },
    {
      "cell_type": "code",
      "execution_count": null,
      "metadata": {
        "cellView": "form",
        "colab": {
          "base_uri": "https://localhost:8080/",
          "height": 592
        },
        "id": "dbrf11nlWIgd",
        "outputId": "d17204ea-a234-420e-b09e-b9ca297356e0"
      },
      "outputs": [
        {
          "data": {
            "text/plain": [
              "<matplotlib.axes._subplots.AxesSubplot at 0x16fc060a0b8>"
            ]
          },
          "execution_count": 25,
          "metadata": {},
          "output_type": "execute_result"
        },
        {
          "data": {
            "image/png": "[encoded data removed]",
            "text/plain": [
              "<Figure size 720x720 with 1 Axes>"
            ]
          },
          "metadata": {},
          "output_type": "display_data"
        }
      ],
      "source": [
        "#@title\n",
        "conn = create_connection('911data.db')\n",
        "sql_statement = f'select T.TimeOfDay'\\\n",
        "f',count(*) as TotalCalls from CallRecord CR inner join TimeOfDay as T on CR.TimeOfDayID = T.TimeOfDayID and CR.TimeOfDayID not null'\\\n",
        "f' group by T.TimeOfDayID '\n",
        "df = pd.read_sql_query(sql_statement, conn)\n",
        "\n",
        "df.set_index('TimeOfDay', inplace=True)\n",
        "df.plot.pie(y='TotalCalls', legend=False,autopct = '%.0f%%',figsize = (10,10),textprops={'fontsize': 16,'color': 'black'})\n"
      ]
    },
    {
      "cell_type": "markdown",
      "metadata": {
        "id": "rmljSKEzRhCE"
      },
      "source": [
        "# ***Year wise trends for different incident categories***"
      ]
    },
    {
      "cell_type": "code",
      "execution_count": null,
      "metadata": {
        "cellView": "form",
        "colab": {
          "base_uri": "https://localhost:8080/",
          "height": 421
        },
        "id": "afAs7SVNaEbs",
        "outputId": "96d56dae-8540-45c8-ddbf-cee398865103"
      },
      "outputs": [
        {
          "data": {
            "text/plain": [
              "Category\n",
              "EMS        AxesSubplot(0.125,0.125;0.775x0.755)\n",
              "Fire       AxesSubplot(0.125,0.125;0.775x0.755)\n",
              "Traffic    AxesSubplot(0.125,0.125;0.775x0.755)\n",
              "Name: TotalCalls, dtype: object"
            ]
          },
          "execution_count": 26,
          "metadata": {},
          "output_type": "execute_result"
        },
        {
          "data": {
            "image/png": "[encoded data removed]",
            "text/plain": [
              "<Figure size 720x360 with 1 Axes>"
            ]
          },
          "metadata": {
            "needs_background": "light"
          },
          "output_type": "display_data"
        }
      ],
      "source": [
        "#@title\n",
        "conn = create_connection('911data.db')\n",
        "sql_statement = f'select strftime(\"%Y\",CR.Date) as year'\\\n",
        "f',count(*) as TotalCalls,Category from CallRecord CR inner join IncidentCategory as IC on CR.CategoryID = IC.CategoryID and CR.CategoryID not null'\\\n",
        "f' group by year,CR.categoryID '\n",
        "df = pd.read_sql_query(sql_statement, conn)\n",
        "df = pd.DataFrame(df.loc[df['year']!='2015'])\n",
        "df.set_index('year', inplace=True)\n",
        "df.groupby('Category')['TotalCalls'].plot(legend=True,figsize = (10,5))\n",
        "\n",
        "\n"
      ]
    },
    {
      "cell_type": "markdown",
      "metadata": {
        "id": "_DQke4UqRhCE"
      },
      "source": [
        "#***Year wise Total call traffic***"
      ]
    },
    {
      "cell_type": "code",
      "execution_count": null,
      "metadata": {
        "colab": {
          "base_uri": "https://localhost:8080/",
          "height": 475
        },
        "id": "fm4m4WIRpylI",
        "outputId": "72f9a42e-a19c-4d4d-99b5-122ec9b23e2c"
      },
      "outputs": [
        {
          "data": {
            "text/plain": [
              "<matplotlib.axes._subplots.AxesSubplot at 0x16fe79d6b70>"
            ]
          },
          "execution_count": 27,
          "metadata": {},
          "output_type": "execute_result"
        },
        {
          "data": {
            "image/png": "[encoded data removed]",
            "text/plain": [
              "<Figure size 720x504 with 1 Axes>"
            ]
          },
          "metadata": {
            "needs_background": "light"
          },
          "output_type": "display_data"
        }
      ],
      "source": [
        "conn = create_connection('911data.db')\n",
        "sql_statement = f'select strftime(\"%Y\",CR.Date) as year'\\\n",
        "f',count(*) as TotalCalls,Category from CallRecord CR inner join IncidentCategory as IC on CR.CategoryID = IC.CategoryID and CR.CategoryID not null'\\\n",
        "f' group by year,CR.categoryID '\n",
        "df = pd.read_sql_query(sql_statement, conn)\n",
        "df = pd.DataFrame(df.loc[df['year']!='2015'])\n",
        "pivot_df = df.pivot(index='year', columns='Category', values='TotalCalls')\n",
        "colors = [\"#45ADA8\", \"#9DE0AD\",\"#E5FCC2\"]\n",
        "pivot_df.loc[:,['EMS','Fire', 'Traffic']].plot.bar(stacked=True, color=colors, figsize=(10,7))"
      ]
    },
    {
      "cell_type": "markdown",
      "metadata": {
        "id": "xdZ215H5RhCE"
      },
      "source": [
        "Generating data frame for Map visualization"
      ]
    },
    {
      "cell_type": "code",
      "execution_count": null,
      "metadata": {
        "colab": {
          "base_uri": "https://localhost:8080/",
          "height": 411
        },
        "id": "AtygQEf_RhCE",
        "outputId": "a227691f-57f0-4402-d7f2-d10a8c574e3b"
      },
      "outputs": [
        {
          "name": "stderr",
          "output_type": "stream",
          "text": [
            "C:\\ProgramData\\Anaconda3\\lib\\site-packages\\matplotlib\\colors.py:504: RuntimeWarning: invalid value encountered in less\n",
            "  xa[xa < 0] = -1\n"
          ]
        },
        {
          "data": {
            "text/html": [
              "<style  type=\"text/css\" >\n",
              "    #T_f5feaaf4_61aa_11ec_8df1_98e7f411c445 th {\n",
              "          background: #420929;\n",
              "          color: white;\n",
              "          font-family: verdana;\n",
              "    }    #T_f5feaaf4_61aa_11ec_8df1_98e7f411c445 td {\n",
              "          border: 2px solid black;\n",
              "          background: #fff5eb;\n",
              "          color: black;\n",
              "          font-family: verdana;\n",
              "    }    #T_f5feaaf4_61aa_11ec_8df1_98e7f411c445row0_col0 {\n",
              "            background-color:  #08306b;\n",
              "        }    #T_f5feaaf4_61aa_11ec_8df1_98e7f411c445row0_col1 {\n",
              "            background-color:  #eaf3fb;\n",
              "        }    #T_f5feaaf4_61aa_11ec_8df1_98e7f411c445row0_col5 {\n",
              "            background-color:  #08306b;\n",
              "        }    #T_f5feaaf4_61aa_11ec_8df1_98e7f411c445row1_col0 {\n",
              "            background-color:  #1b69af;\n",
              "        }    #T_f5feaaf4_61aa_11ec_8df1_98e7f411c445row1_col1 {\n",
              "            background-color:  #08306b;\n",
              "        }    #T_f5feaaf4_61aa_11ec_8df1_98e7f411c445row1_col5 {\n",
              "            background-color:  #a3cce3;\n",
              "        }    #T_f5feaaf4_61aa_11ec_8df1_98e7f411c445row2_col0 {\n",
              "            background-color:  #f2f7fd;\n",
              "        }    #T_f5feaaf4_61aa_11ec_8df1_98e7f411c445row2_col1 {\n",
              "            background-color:  #2272b6;\n",
              "        }    #T_f5feaaf4_61aa_11ec_8df1_98e7f411c445row2_col5 {\n",
              "            background-color:  #f7fbff;\n",
              "        }    #T_f5feaaf4_61aa_11ec_8df1_98e7f411c445row3_col0 {\n",
              "            background-color:  #f7fbff;\n",
              "        }    #T_f5feaaf4_61aa_11ec_8df1_98e7f411c445row3_col1 {\n",
              "            background-color:  #1d6cb1;\n",
              "        }    #T_f5feaaf4_61aa_11ec_8df1_98e7f411c445row3_col5 {\n",
              "            background-color:  #f7fbff;\n",
              "        }    #T_f5feaaf4_61aa_11ec_8df1_98e7f411c445row4_col0 {\n",
              "            background-color:  #2272b6;\n",
              "        }    #T_f5feaaf4_61aa_11ec_8df1_98e7f411c445row4_col1 {\n",
              "            background-color:  #f7fbff;\n",
              "        }    #T_f5feaaf4_61aa_11ec_8df1_98e7f411c445row4_col5 {\n",
              "            background-color:  #f7fbff;\n",
              "        }</style>  \n",
              "<table id=\"T_f5feaaf4_61aa_11ec_8df1_98e7f411c445\" > \n",
              "<thead>    <tr> \n",
              "        <th class=\"col_heading level0 col0\" >latitude</th> \n",
              "        <th class=\"col_heading level0 col1\" >longitude</th> \n",
              "        <th class=\"col_heading level0 col2\" >Category</th> \n",
              "        <th class=\"col_heading level0 col3\" >SubCategory</th> \n",
              "        <th class=\"col_heading level0 col4\" >Desc</th> \n",
              "        <th class=\"col_heading level0 col5\" >Zip</th> \n",
              "        <th class=\"col_heading level0 col6\" >TownshipName</th> \n",
              "        <th class=\"col_heading level0 col7\" >Address</th> \n",
              "        <th class=\"col_heading level0 col8\" >Date</th> \n",
              "        <th class=\"col_heading level0 col9\" >TimeOfDay</th> \n",
              "    </tr></thead> \n",
              "<tbody>    <tr> \n",
              "        <td id=\"T_f5feaaf4_61aa_11ec_8df1_98e7f411c445row0_col0\" class=\"data row0 col0\" >40.2979</td> \n",
              "        <td id=\"T_f5feaaf4_61aa_11ec_8df1_98e7f411c445row0_col1\" class=\"data row0 col1\" >-75.5813</td> \n",
              "        <td id=\"T_f5feaaf4_61aa_11ec_8df1_98e7f411c445row0_col2\" class=\"data row0 col2\" >EMS</td> \n",
              "        <td id=\"T_f5feaaf4_61aa_11ec_8df1_98e7f411c445row0_col3\" class=\"data row0 col3\" >BACK PAINS/INJURY</td> \n",
              "        <td id=\"T_f5feaaf4_61aa_11ec_8df1_98e7f411c445row0_col4\" class=\"data row0 col4\" >REINDEER CT & DEAD END;  NEW HANOVER; Station 332; 2015-12-10 @ 17:10:52;</td> \n",
              "        <td id=\"T_f5feaaf4_61aa_11ec_8df1_98e7f411c445row0_col5\" class=\"data row0 col5\" >19525</td> \n",
              "        <td id=\"T_f5feaaf4_61aa_11ec_8df1_98e7f411c445row0_col6\" class=\"data row0 col6\" >NEW HANOVER</td> \n",
              "        <td id=\"T_f5feaaf4_61aa_11ec_8df1_98e7f411c445row0_col7\" class=\"data row0 col7\" >REINDEER CT & DEAD END</td> \n",
              "        <td id=\"T_f5feaaf4_61aa_11ec_8df1_98e7f411c445row0_col8\" class=\"data row0 col8\" >2015-12-10</td> \n",
              "        <td id=\"T_f5feaaf4_61aa_11ec_8df1_98e7f411c445row0_col9\" class=\"data row0 col9\" >Evening</td> \n",
              "    </tr>    <tr> \n",
              "        <td id=\"T_f5feaaf4_61aa_11ec_8df1_98e7f411c445row1_col0\" class=\"data row1 col0\" >40.2581</td> \n",
              "        <td id=\"T_f5feaaf4_61aa_11ec_8df1_98e7f411c445row1_col1\" class=\"data row1 col1\" >-75.2647</td> \n",
              "        <td id=\"T_f5feaaf4_61aa_11ec_8df1_98e7f411c445row1_col2\" class=\"data row1 col2\" >EMS</td> \n",
              "        <td id=\"T_f5feaaf4_61aa_11ec_8df1_98e7f411c445row1_col3\" class=\"data row1 col3\" >DIABETIC EMERGENCY</td> \n",
              "        <td id=\"T_f5feaaf4_61aa_11ec_8df1_98e7f411c445row1_col4\" class=\"data row1 col4\" >BRIAR PATH & WHITEMARSH LN;  HATFIELD TOWNSHIP; Station 345; 2015-12-10 @ 17:29:21;</td> \n",
              "        <td id=\"T_f5feaaf4_61aa_11ec_8df1_98e7f411c445row1_col5\" class=\"data row1 col5\" >19446</td> \n",
              "        <td id=\"T_f5feaaf4_61aa_11ec_8df1_98e7f411c445row1_col6\" class=\"data row1 col6\" >HATFIELD TOWNSHIP</td> \n",
              "        <td id=\"T_f5feaaf4_61aa_11ec_8df1_98e7f411c445row1_col7\" class=\"data row1 col7\" >BRIAR PATH & WHITEMARSH LN</td> \n",
              "        <td id=\"T_f5feaaf4_61aa_11ec_8df1_98e7f411c445row1_col8\" class=\"data row1 col8\" >2015-12-10</td> \n",
              "        <td id=\"T_f5feaaf4_61aa_11ec_8df1_98e7f411c445row1_col9\" class=\"data row1 col9\" >Evening</td> \n",
              "    </tr>    <tr> \n",
              "        <td id=\"T_f5feaaf4_61aa_11ec_8df1_98e7f411c445row2_col0\" class=\"data row2 col0\" >40.1212</td> \n",
              "        <td id=\"T_f5feaaf4_61aa_11ec_8df1_98e7f411c445row2_col1\" class=\"data row2 col1\" >-75.352</td> \n",
              "        <td id=\"T_f5feaaf4_61aa_11ec_8df1_98e7f411c445row2_col2\" class=\"data row2 col2\" >Fire</td> \n",
              "        <td id=\"T_f5feaaf4_61aa_11ec_8df1_98e7f411c445row2_col3\" class=\"data row2 col3\" >GAS-ODOR/LEAK</td> \n",
              "        <td id=\"T_f5feaaf4_61aa_11ec_8df1_98e7f411c445row2_col4\" class=\"data row2 col4\" >HAWS AVE; NORRISTOWN; 2015-12-10 @ 14:39:21-Station:STA27;</td> \n",
              "        <td id=\"T_f5feaaf4_61aa_11ec_8df1_98e7f411c445row2_col5\" class=\"data row2 col5\" >19401</td> \n",
              "        <td id=\"T_f5feaaf4_61aa_11ec_8df1_98e7f411c445row2_col6\" class=\"data row2 col6\" >NORRISTOWN</td> \n",
              "        <td id=\"T_f5feaaf4_61aa_11ec_8df1_98e7f411c445row2_col7\" class=\"data row2 col7\" >HAWS AVE</td> \n",
              "        <td id=\"T_f5feaaf4_61aa_11ec_8df1_98e7f411c445row2_col8\" class=\"data row2 col8\" >2015-12-10</td> \n",
              "        <td id=\"T_f5feaaf4_61aa_11ec_8df1_98e7f411c445row2_col9\" class=\"data row2 col9\" >Afternoon</td> \n",
              "    </tr>    <tr> \n",
              "        <td id=\"T_f5feaaf4_61aa_11ec_8df1_98e7f411c445row3_col0\" class=\"data row3 col0\" >40.1162</td> \n",
              "        <td id=\"T_f5feaaf4_61aa_11ec_8df1_98e7f411c445row3_col1\" class=\"data row3 col1\" >-75.3435</td> \n",
              "        <td id=\"T_f5feaaf4_61aa_11ec_8df1_98e7f411c445row3_col2\" class=\"data row3 col2\" >EMS</td> \n",
              "        <td id=\"T_f5feaaf4_61aa_11ec_8df1_98e7f411c445row3_col3\" class=\"data row3 col3\" >CARDIAC EMERGENCY</td> \n",
              "        <td id=\"T_f5feaaf4_61aa_11ec_8df1_98e7f411c445row3_col4\" class=\"data row3 col4\" >AIRY ST & SWEDE ST;  NORRISTOWN; Station 308A; 2015-12-10 @ 16:47:36;</td> \n",
              "        <td id=\"T_f5feaaf4_61aa_11ec_8df1_98e7f411c445row3_col5\" class=\"data row3 col5\" >19401</td> \n",
              "        <td id=\"T_f5feaaf4_61aa_11ec_8df1_98e7f411c445row3_col6\" class=\"data row3 col6\" >NORRISTOWN</td> \n",
              "        <td id=\"T_f5feaaf4_61aa_11ec_8df1_98e7f411c445row3_col7\" class=\"data row3 col7\" >AIRY ST & SWEDE ST</td> \n",
              "        <td id=\"T_f5feaaf4_61aa_11ec_8df1_98e7f411c445row3_col8\" class=\"data row3 col8\" >2015-12-10</td> \n",
              "        <td id=\"T_f5feaaf4_61aa_11ec_8df1_98e7f411c445row3_col9\" class=\"data row3 col9\" >Afternoon</td> \n",
              "    </tr>    <tr> \n",
              "        <td id=\"T_f5feaaf4_61aa_11ec_8df1_98e7f411c445row4_col0\" class=\"data row4 col0\" >40.2515</td> \n",
              "        <td id=\"T_f5feaaf4_61aa_11ec_8df1_98e7f411c445row4_col1\" class=\"data row4 col1\" >-75.6033</td> \n",
              "        <td id=\"T_f5feaaf4_61aa_11ec_8df1_98e7f411c445row4_col2\" class=\"data row4 col2\" >EMS</td> \n",
              "        <td id=\"T_f5feaaf4_61aa_11ec_8df1_98e7f411c445row4_col3\" class=\"data row4 col3\" >DIZZINESS</td> \n",
              "        <td id=\"T_f5feaaf4_61aa_11ec_8df1_98e7f411c445row4_col4\" class=\"data row4 col4\" >CHERRYWOOD CT & DEAD END;  LOWER POTTSGROVE; Station 329; 2015-12-10 @ 16:56:52;</td> \n",
              "        <td id=\"T_f5feaaf4_61aa_11ec_8df1_98e7f411c445row4_col5\" class=\"data row4 col5\" >nan</td> \n",
              "        <td id=\"T_f5feaaf4_61aa_11ec_8df1_98e7f411c445row4_col6\" class=\"data row4 col6\" >LOWER POTTSGROVE</td> \n",
              "        <td id=\"T_f5feaaf4_61aa_11ec_8df1_98e7f411c445row4_col7\" class=\"data row4 col7\" >CHERRYWOOD CT & DEAD END</td> \n",
              "        <td id=\"T_f5feaaf4_61aa_11ec_8df1_98e7f411c445row4_col8\" class=\"data row4 col8\" >2015-12-10</td> \n",
              "        <td id=\"T_f5feaaf4_61aa_11ec_8df1_98e7f411c445row4_col9\" class=\"data row4 col9\" >Afternoon</td> \n",
              "    </tr></tbody> \n",
              "</table> "
            ],
            "text/plain": [
              "<pandas.io.formats.style.Styler at 0x16fdf347b00>"
            ]
          },
          "execution_count": 28,
          "metadata": {},
          "output_type": "execute_result"
        }
      ],
      "source": [
        "conn = create_connection('911data.db')\n",
        "s = \"\"\" select cr.latitude,cr.longitude,c.Category,sc.SubCategory,cr.Desc,cr.Zip,TownshipName,Address,Date,TimeOfDay from CallRecord as cr\n",
        "inner join IncidentCategory as c on cr.CategoryID = c.CategoryID\n",
        "inner join IncidentSubCategory as sc on cr.SubCategoryID = sc.SubcategoryID\n",
        "inner join TimeOfDay T on cr.TimeOfDayId = T.TimeOfDayId\n",
        "inner join Township tw on cr.TownshipID = tw.TownshipID\n",
        "LIMIT 3000\n",
        "\"\"\"\n",
        "df = pd.read_sql_query(s, conn)\n",
        "beautify_table(df.head())"
      ]
    },
    {
      "cell_type": "markdown",
      "metadata": {
        "id": "Y3nQHHjyRhCF"
      },
      "source": [
        "### Background and icon color dictionaries"
      ]
    },
    {
      "cell_type": "code",
      "execution_count": null,
      "metadata": {
        "id": "JiIUumB8RhCF"
      },
      "outputs": [],
      "source": [
        "ic_col={\"Monday\":\"orange\",\"Tuesday\":\"green\",\"Wednesday\":\"blue\",\"Thursday\":\"purple\",\"Friday\":\"pink\",\"Saturday\":\"violet\",\"Sunday\":\"red\"}\n",
        "dic_days={\"0\":\"orange\",\"1\":\"green\",\"2\":\"blue\",\"3\":\"purple\",\"4\":\"pink\",\"5\":\"darkpurple\",\"6\":\"red\"}\n",
        "dic_col_cat={\"EMS\":\"blue\",\"Fire\":\"red\",\"Traffic\":\"green\"}\n",
        "dic_col_icon={\"EMS\":\"ambulance\",\"Fire\":\"fire\",\"Traffic\":\"car\"}\n",
        "dic_col_bg_cat = {\"EMS\":\"#29b6f6\",\"Fire\":\"#FF4F4B\",\"Traffic\":\"#00c853\"}"
      ]
    },
    {
      "cell_type": "markdown",
      "metadata": {
        "id": "RCTBjYKcRhCF"
      },
      "source": [
        "## Call records visualization on basis of location on Map"
      ]
    },
    {
      "cell_type": "code",
      "execution_count": null,
      "metadata": {
        "id": "DCFNmXIWRhCF"
      },
      "outputs": [],
      "source": [
        "def plotMap(TimeOfDay):\n",
        "    if TimeOfDay.lower() == 'night':\n",
        "        tile_style = 'stamentoner'\n",
        "    else:\n",
        "        tile_style = 'OpenStreetMap'\n",
        "    plotWeb =fm.Map(location=[df[\"latitude\"].mean(),df[\"longitude\"].mean()],zoom_start=12,tiles=tile_style)\n",
        "    groups =fm.FeatureGroup(name=f'911 Calls Map - {TimeOfDay}')\n",
        "\n",
        "    for i,x in df.iterrows():\n",
        "        html = f'<body style=\"background-color:{dic_col_bg_cat[x[\"Category\"]]};\"><p style=\"color:white;\"><b>{x[\"TownshipName\"]}</b></p>\\\n",
        "        <p style=\"color:white;\">Category: {x[\"Category\"]}</p>\\\n",
        "        <p style=\"color:white;\">Sub Category: {x[\"SubCategory\"]}</p></body>'\n",
        "\n",
        "        iframe = fm.IFrame(html,\n",
        "                            width=200,\n",
        "                            height=120)\n",
        "\n",
        "        popup = fm.Popup(iframe)\n",
        "        if x[\"TimeOfDay\"].lower() == TimeOfDay.lower():\n",
        "            groups.add_child(fm.Marker(location=[x[\"latitude\"], x[\"longitude\"]],popup=popup,icon=fm.Icon(prefix = 'fa',icon = dic_col_icon[x[\"Category\"]],color=dic_col_cat[str(x[\"Category\"])])))\n",
        "\n",
        "    plotWeb.add_child(groups)\n",
        "    plotWeb.save(f'Tr_300_{TimeOfDay}.html')"
      ]
    },
    {
      "cell_type": "code",
      "execution_count": null,
      "metadata": {
        "id": "u2aPomCXnLhj"
      },
      "outputs": [],
      "source": [
        "plotMap('Morning')\n",
        "plotMap('Afternoon')\n",
        "plotMap('Evening')\n",
        "plotMap('Night')"
      ]
    },
    {
      "cell_type": "markdown",
      "metadata": {
        "id": "u5XWAxx9J9Vm"
      },
      "source": [
        "## Creating HeatMap of Emergency Calls"
      ]
    },
    {
      "cell_type": "code",
      "execution_count": null,
      "metadata": {
        "id": "QSrGpmstKG7A"
      },
      "outputs": [],
      "source": [
        "conn = create_connection('911data.db')\n",
        "s = \"\"\" select cr.latitude,cr.longitude,c.Category,sc.SubCategory,cr.Desc,cr.Zip,TownshipID,Address,Date from CallRecord as cr inner join IncidentCategory as c on cr.CategoryID = c.CategoryID inner join IncidentSubCategory as sc on cr.SubCategoryID = sc.SubcategoryID\n",
        " limit 600000 \"\"\"\n",
        "df = pd.read_sql_query(s, conn)\n",
        "cod2 = []\n",
        "dict1 = {}\n",
        "for i,x in df.iterrows():\n",
        "    cod2.append([x[\"latitude\"], x[\"longitude\"]])\n",
        "    kee = x[\"Date\"][0:4]\n",
        "    if kee in dict1.keys():\n",
        "        dict1[kee].append([x[\"latitude\"], x[\"longitude\"]])\n",
        "    else:\n",
        "        dict1[kee] = [[x[\"latitude\"], x[\"longitude\"]]]"
      ]
    },
    {
      "cell_type": "code",
      "execution_count": null,
      "metadata": {
        "id": "Rh_kBS8WKMMv"
      },
      "outputs": [],
      "source": [
        "hmt1 = fm.Map(location=[df[\"latitude\"].mean(), df[\"longitude\"].mean()], control_scale=True, zoom_start=10,tiles='OpenStreetMap')\n",
        "stat = HeatMapWithTime(data=list(dict1.values()), index = list(dict1.keys()), radius=6,auto_play=False,max_opacity=0.5).add_to(hmt1)\n",
        "stat.save(\"911_HeatMap_Yearwise.html\")"
      ]
    }
  ],
  "metadata": {
    "colab": {
      "provenance": []
    },
    "kernelspec": {
      "display_name": "Python 3",
      "language": "python",
      "name": "python3"
    },
    "language_info": {
      "codemirror_mode": {
        "name": "ipython",
        "version": 3
      },
      "file_extension": ".py",
      "mimetype": "text/x-python",
      "name": "python",
      "nbconvert_exporter": "python",
      "pygments_lexer": "ipython3",
      "version": "3.7.0"
    }
  },
  "nbformat": 4,
  "nbformat_minor": 0
}